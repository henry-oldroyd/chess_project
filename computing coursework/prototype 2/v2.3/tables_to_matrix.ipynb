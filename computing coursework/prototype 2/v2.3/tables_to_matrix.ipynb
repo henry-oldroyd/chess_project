{
 "cells": [
  {
   "cell_type": "markdown",
   "metadata": {},
   "source": [
    "i just want to convert the tables from this website into 8*8 matrices\n",
    "https://www.chessprogramming.org/Simplified_Evaluation_Function\n"
   ]
  },
  {
   "cell_type": "code",
   "execution_count": 35,
   "metadata": {},
   "outputs": [],
   "source": [
    "def dec_gen_to_list(generator_func):\n",
    "    def wrapper(*args, **kwargs):\n",
    "        return list(\n",
    "            generator_func(*args, **kwargs)\n",
    "        )\n",
    "    wrapper.__name__ == generator_func.__name__\n",
    "    return wrapper"
   ]
  },
  {
   "cell_type": "code",
   "execution_count": 36,
   "metadata": {},
   "outputs": [],
   "source": [
    "@dec_gen_to_list\n",
    "def str_to_matrix(str_matrix):\n",
    "    @dec_gen_to_list\n",
    "    def str_to_row(row):\n",
    "        for e in row.split(\",\"):\n",
    "            if not e: \n",
    "                continue\n",
    "            e = e.strip()\n",
    "            yield int(e)\n",
    "            # print(f\"'{e}'\")\n",
    "    for row in str_matrix.split(\"\\n\"):\n",
    "        if not row:\n",
    "            continue\n",
    "\n",
    "        # print(f\"row:   '{row}'\")\n",
    "        yield str_to_row(row)"
   ]
  },
  {
   "cell_type": "code",
   "execution_count": 37,
   "metadata": {},
   "outputs": [
    {
     "data": {
      "text/plain": [
       "[[0, 0, 0, 0, 0, 0, 0, 0],\n",
       " [50, 50, 50, 50, 50, 50, 50, 50],\n",
       " [10, 10, 20, 30, 30, 20, 10, 10],\n",
       " [5, 5, 10, 25, 25, 10, 5, 5],\n",
       " [0, 0, 0, 20, 20, 0, 0, 0],\n",
       " [5, -5, -10, 0, 0, -10, -5, 5],\n",
       " [5, 10, 10, -20, -20, 10, 10, 5],\n",
       " [0, 0, 0, 0, 0, 0, 0, 0]]"
      ]
     },
     "execution_count": 37,
     "metadata": {},
     "output_type": "execute_result"
    }
   ],
   "source": [
    "pawn = str_to_matrix(\"\"\" 0,  0,  0,  0,  0,  0,  0,  0,\n",
    "50, 50, 50, 50, 50, 50, 50, 50,\n",
    "10, 10, 20, 30, 30, 20, 10, 10,\n",
    " 5,  5, 10, 25, 25, 10,  5,  5,\n",
    " 0,  0,  0, 20, 20,  0,  0,  0,\n",
    " 5, -5,-10,  0,  0,-10, -5,  5,\n",
    " 5, 10, 10,-20,-20, 10, 10,  5,\n",
    " 0,  0,  0,  0,  0,  0,  0,  0\"\"\")\n",
    "pawn\n"
   ]
  },
  {
   "cell_type": "code",
   "execution_count": 38,
   "metadata": {},
   "outputs": [
    {
     "data": {
      "text/plain": [
       "[[-50, -40, -30, -30, -30, -30, -40, -50],\n",
       " [-40, -20, 0, 0, 0, 0, -20, -40],\n",
       " [-30, 0, 10, 15, 15, 10, 0, -30],\n",
       " [-30, 5, 15, 20, 20, 15, 5, -30],\n",
       " [-30, 0, 15, 20, 20, 15, 0, -30],\n",
       " [-30, 5, 10, 15, 15, 10, 5, -30],\n",
       " [-40, -20, 0, 5, 5, 0, -20, -40],\n",
       " [-50, -40, -30, -30, -30, -30, -40, -50]]"
      ]
     },
     "execution_count": 38,
     "metadata": {},
     "output_type": "execute_result"
    }
   ],
   "source": [
    "knight = str_to_matrix(\"\"\"-50,-40,-30,-30,-30,-30,-40,-50,\n",
    "-40,-20,  0,  0,  0,  0,-20,-40,\n",
    "-30,  0, 10, 15, 15, 10,  0,-30,\n",
    "-30,  5, 15, 20, 20, 15,  5,-30,\n",
    "-30,  0, 15, 20, 20, 15,  0,-30,\n",
    "-30,  5, 10, 15, 15, 10,  5,-30,\n",
    "-40,-20,  0,  5,  5,  0,-20,-40,\n",
    "-50,-40,-30,-30,-30,-30,-40,-50,\"\"\")\n",
    "knight\n",
    "\n"
   ]
  },
  {
   "cell_type": "code",
   "execution_count": 39,
   "metadata": {},
   "outputs": [
    {
     "data": {
      "text/plain": [
       "[[-20, -10, -10, -10, -10, -10, -10, -20],\n",
       " [-10, 0, 0, 0, 0, 0, 0, -10],\n",
       " [-10, 0, 5, 10, 10, 5, 0, -10],\n",
       " [-10, 5, 5, 10, 10, 5, 5, -10],\n",
       " [-10, 0, 10, 10, 10, 10, 0, -10],\n",
       " [-10, 10, 10, 10, 10, 10, 10, -10],\n",
       " [-10, 5, 0, 0, 0, 0, 5, -10],\n",
       " [-20, -10, -10, -10, -10, -10, -10, -20]]"
      ]
     },
     "execution_count": 39,
     "metadata": {},
     "output_type": "execute_result"
    }
   ],
   "source": [
    "bishop = str_to_matrix(\"\"\"-20,-10,-10,-10,-10,-10,-10,-20,\n",
    "-10,  0,  0,  0,  0,  0,  0,-10,\n",
    "-10,  0,  5, 10, 10,  5,  0,-10,\n",
    "-10,  5,  5, 10, 10,  5,  5,-10,\n",
    "-10,  0, 10, 10, 10, 10,  0,-10,\n",
    "-10, 10, 10, 10, 10, 10, 10,-10,\n",
    "-10,  5,  0,  0,  0,  0,  5,-10,\n",
    "-20,-10,-10,-10,-10,-10,-10,-20,\"\"\")\n",
    "bishop\n"
   ]
  },
  {
   "cell_type": "code",
   "execution_count": 40,
   "metadata": {},
   "outputs": [
    {
     "data": {
      "text/plain": [
       "[[0, 0, 0, 0, 0, 0, 0, 0],\n",
       " [5, 10, 10, 10, 10, 10, 10, 5],\n",
       " [-5, 0, 0, 0, 0, 0, 0, -5],\n",
       " [-5, 0, 0, 0, 0, 0, 0, -5],\n",
       " [-5, 0, 0, 0, 0, 0, 0, -5],\n",
       " [-5, 0, 0, 0, 0, 0, 0, -5],\n",
       " [-5, 0, 0, 0, 0, 0, 0, -5],\n",
       " [0, 0, 0, 5, 5, 0, 0, 0]]"
      ]
     },
     "execution_count": 40,
     "metadata": {},
     "output_type": "execute_result"
    }
   ],
   "source": [
    "rook = str_to_matrix(\"\"\"  0,  0,  0,  0,  0,  0,  0,  0,\n",
    "  5, 10, 10, 10, 10, 10, 10,  5,\n",
    " -5,  0,  0,  0,  0,  0,  0, -5,\n",
    " -5,  0,  0,  0,  0,  0,  0, -5,\n",
    " -5,  0,  0,  0,  0,  0,  0, -5,\n",
    " -5,  0,  0,  0,  0,  0,  0, -5,\n",
    " -5,  0,  0,  0,  0,  0,  0, -5,\n",
    "  0,  0,  0,  5,  5,  0,  0,  0\"\"\")\n",
    "rook"
   ]
  },
  {
   "cell_type": "code",
   "execution_count": 41,
   "metadata": {},
   "outputs": [
    {
     "data": {
      "text/plain": [
       "[[-20, -10, -10, -5, -5, -10, -10, -20],\n",
       " [-10, 0, 0, 0, 0, 0, 0, -10],\n",
       " [-10, 0, 5, 5, 5, 5, 0, -10],\n",
       " [-5, 0, 5, 5, 5, 5, 0, -5],\n",
       " [0, 0, 5, 5, 5, 5, 0, -5],\n",
       " [-10, 5, 5, 5, 5, 5, 0, -10],\n",
       " [-10, 0, 5, 0, 0, 0, 0, -10],\n",
       " [-20, -10, -10, -5, -5, -10, -10, -20]]"
      ]
     },
     "execution_count": 41,
     "metadata": {},
     "output_type": "execute_result"
    }
   ],
   "source": [
    "queen = str_to_matrix(\"\"\"-20,-10,-10, -5, -5,-10,-10,-20,\n",
    "-10,  0,  0,  0,  0,  0,  0,-10,\n",
    "-10,  0,  5,  5,  5,  5,  0,-10,\n",
    " -5,  0,  5,  5,  5,  5,  0, -5,\n",
    "  0,  0,  5,  5,  5,  5,  0, -5,\n",
    "-10,  5,  5,  5,  5,  5,  0,-10,\n",
    "-10,  0,  5,  0,  0,  0,  0,-10,\n",
    "-20,-10,-10, -5, -5,-10,-10,-20\"\"\")\n",
    "queen\n"
   ]
  },
  {
   "cell_type": "code",
   "execution_count": 42,
   "metadata": {},
   "outputs": [
    {
     "data": {
      "text/plain": [
       "[[-30, -40, -40, -50, -50, -40, -40, -30],\n",
       " [-30, -40, -40, -50, -50, -40, -40, -30],\n",
       " [-30, -40, -40, -50, -50, -40, -40, -30],\n",
       " [-30, -40, -40, -50, -50, -40, -40, -30],\n",
       " [-20, -30, -30, -40, -40, -30, -30, -20],\n",
       " [-10, -20, -20, -20, -20, -20, -20, -10],\n",
       " [20, 20, 0, 0, 0, 0, 20, 20],\n",
       " [20, 30, 10, 0, 0, 10, 30, 20]]"
      ]
     },
     "execution_count": 42,
     "metadata": {},
     "output_type": "execute_result"
    }
   ],
   "source": [
    "king_start = str_to_matrix(\"\"\"-30,-40,-40,-50,-50,-40,-40,-30,\n",
    "-30,-40,-40,-50,-50,-40,-40,-30,\n",
    "-30,-40,-40,-50,-50,-40,-40,-30,\n",
    "-30,-40,-40,-50,-50,-40,-40,-30,\n",
    "-20,-30,-30,-40,-40,-30,-30,-20,\n",
    "-10,-20,-20,-20,-20,-20,-20,-10,\n",
    " 20, 20,  0,  0,  0,  0, 20, 20,\n",
    " 20, 30, 10,  0,  0, 10, 30, 20\"\"\")\n",
    "king_start\n"
   ]
  },
  {
   "cell_type": "code",
   "execution_count": 43,
   "metadata": {},
   "outputs": [
    {
     "data": {
      "text/plain": [
       "[[-50, -40, -30, -20, -20, -30, -40, -50],\n",
       " [-30, -20, -10, 0, 0, -10, -20, -30],\n",
       " [-30, -10, 20, 30, 30, 20, -10, -30],\n",
       " [-30, -10, 30, 40, 40, 30, -10, -30],\n",
       " [-30, -10, 30, 40, 40, 30, -10, -30],\n",
       " [-30, -10, 20, 30, 30, 20, -10, -30],\n",
       " [-30, -30, 0, 0, 0, 0, -30, -30],\n",
       " [-50, -30, -30, -30, -30, -30, -30, -50]]"
      ]
     },
     "execution_count": 43,
     "metadata": {},
     "output_type": "execute_result"
    }
   ],
   "source": [
    "king_end = str_to_matrix(\"\"\"-50,-40,-30,-20,-20,-30,-40,-50,\n",
    "-30,-20,-10,  0,  0,-10,-20,-30,\n",
    "-30,-10, 20, 30, 30, 20,-10,-30,\n",
    "-30,-10, 30, 40, 40, 30,-10,-30,\n",
    "-30,-10, 30, 40, 40, 30,-10,-30,\n",
    "-30,-10, 20, 30, 30, 20,-10,-30,\n",
    "-30,-30,  0,  0,  0,  0,-30,-30,\n",
    "-50,-30,-30,-30,-30,-30,-30,-50\"\"\")\n",
    "king_end"
   ]
  },
  {
   "cell_type": "code",
   "execution_count": 49,
   "metadata": {},
   "outputs": [],
   "source": [
    "import json\n",
    "\n",
    "with open(\"value_matrices.json\", \"w\") as file:\n",
    "    file.write(\n",
    "        json.dumps(\n",
    "            {\n",
    "                'pawn': pawn,\n",
    "                'knight': knight,\n",
    "                'bishop': bishop,\n",
    "                'castle': rook,\n",
    "                'queen': queen,\n",
    "                'king_start': king_start,\n",
    "                'king_end': king_end\n",
    "            },\n",
    "        )\n",
    "    )\n"
   ]
  }
 ],
 "metadata": {
  "kernelspec": {
   "display_name": "Python 3.10.0 64-bit",
   "language": "python",
   "name": "python3"
  },
  "language_info": {
   "codemirror_mode": {
    "name": "ipython",
    "version": 3
   },
   "file_extension": ".py",
   "mimetype": "text/x-python",
   "name": "python",
   "nbconvert_exporter": "python",
   "pygments_lexer": "ipython3",
   "version": "3.10.0"
  },
  "orig_nbformat": 4,
  "vscode": {
   "interpreter": {
    "hash": "1215b1aecdd8c83375b241d0c862057777d1b41ed412da38189195d086960e71"
   }
  }
 },
 "nbformat": 4,
 "nbformat_minor": 2
}
