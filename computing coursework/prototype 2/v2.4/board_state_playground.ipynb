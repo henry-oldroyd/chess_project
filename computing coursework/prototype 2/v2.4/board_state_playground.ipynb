{
 "cells": [
  {
   "cell_type": "code",
   "execution_count": 1,
   "metadata": {},
   "outputs": [],
   "source": [
    "\n",
    "from board_state import Board_State\n",
    "# tested so assumed correct\n",
    "import pieces\n",
    "from vector import Vector\n"
   ]
  },
  {
   "cell_type": "code",
   "execution_count": 2,
   "metadata": {},
   "outputs": [],
   "source": [
    "# code repeated from test pieces, opportunity to reduce redundancy\n",
    "def list_map(function, iterable): return list(map(function, iterable))\n",
    "\n",
    "\n",
    "def descriptor_to_piece(descriptor) -> pieces.Piece:\n",
    "    # converts WN to knight object with a color attribute of white\n",
    "    if descriptor is None:\n",
    "        return None\n",
    "\n",
    "    color, symbol = descriptor\n",
    "    piece_type: pieces.Piece = pieces.PIECE_TYPES[symbol]\n",
    "    return piece_type(color=color)\n",
    "\n",
    "\n",
    "def deserialize_pieces_matrix(pieces_matrix) -> Board_State:\n",
    "    def row_of_symbols_to_pieces(row):\n",
    "        return list_map(descriptor_to_piece, row)\n",
    "\n",
    "    # update pieces_matrix replacing piece descriptors to piece objects\n",
    "    pieces_matrix = list_map(row_of_symbols_to_pieces, pieces_matrix)\n",
    "    board_state: Board_State = Board_State(pieces_matrix=pieces_matrix, next_to_go='W')\n",
    "\n",
    "    return board_state\n"
   ]
  },
  {
   "cell_type": "code",
   "execution_count": 3,
   "metadata": {},
   "outputs": [],
   "source": [
    "def test_generate_all_pieces(pieces_matrix, pieces_and_squares):\n",
    "    board_state: Board_State = deserialize_pieces_matrix(pieces_matrix)\n",
    "    # use set as order irrelevant\n",
    "    legal_moves_actual: set[pieces.Piece, Vector] = set(board_state.generate_all_pieces())\n",
    "\n",
    "    # convert square to vector, allowed as this is tested\n",
    "    def deserialize(data_unit):\n",
    "        # unpack test data unit\n",
    "        piece, square = data_unit\n",
    "        return (descriptor_to_piece(piece), Vector.construct_from_square(square))\n",
    "\n",
    "    legal_moves_expected: set[pieces.Piece, Vector] = set(map(deserialize, pieces_and_squares))\n",
    "\n",
    "    try:\n",
    "        assert legal_moves_actual == legal_moves_expected, f\"\\nactual {legal_moves_actual}  !=  expected {legal_moves_expected}\"\n",
    "    except AssertionError:\n",
    "        return False\n",
    "    else:\n",
    "        return True\n",
    "\n"
   ]
  },
  {
   "cell_type": "code",
   "execution_count": 4,
   "metadata": {},
   "outputs": [],
   "source": [
    "test_data = {\n",
    "    \"pieces_matrix\": [\n",
    "        [None, None, None, None, None, None, None, None],\n",
    "        [None, None, None, None, None, None, None, None],\n",
    "        [None, None, None, None, None, None, None, None],\n",
    "        [None, None, None, None, None, None, None, None],\n",
    "        [None, None, None, None, None, None, None, None],\n",
    "        [None, None, None, None, None, None, None, None],\n",
    "        [\"BP\",   None, \"BP\",   None, None, None, None, None],\n",
    "        [None, \"WP\",   None, None, None, None, None, None]\n",
    "    ],\n",
    "    \"pieces_and_squares\": [\n",
    "        [\"WP\", \"B1\"],\n",
    "        [\"BP\", \"A2\"],\n",
    "        [\"BP\", \"C2\"]\n",
    "    ]\n",
    "}"
   ]
  },
  {
   "cell_type": "code",
   "execution_count": 5,
   "metadata": {},
   "outputs": [
    {
     "ename": "TypeError",
     "evalue": "unhashable type: 'Pawn'",
     "output_type": "error",
     "traceback": [
      "\u001b[1;31m---------------------------------------------------------------------------\u001b[0m",
      "\u001b[1;31mTypeError\u001b[0m                                 Traceback (most recent call last)",
      "\u001b[1;32m~\\AppData\\Local\\Temp/ipykernel_9988/2201580436.py\u001b[0m in \u001b[0;36m<module>\u001b[1;34m\u001b[0m\n\u001b[1;32m----> 1\u001b[1;33m \u001b[0mtest_generate_all_pieces\u001b[0m\u001b[1;33m(\u001b[0m\u001b[1;33m**\u001b[0m\u001b[0mtest_data\u001b[0m\u001b[1;33m)\u001b[0m\u001b[1;33m\u001b[0m\u001b[1;33m\u001b[0m\u001b[0m\n\u001b[0m",
      "\u001b[1;32m~\\AppData\\Local\\Temp/ipykernel_9988/4281577374.py\u001b[0m in \u001b[0;36mtest_generate_all_pieces\u001b[1;34m(pieces_matrix, pieces_and_squares)\u001b[0m\n\u001b[0;32m      2\u001b[0m     \u001b[0mboard_state\u001b[0m\u001b[1;33m:\u001b[0m \u001b[0mBoard_State\u001b[0m \u001b[1;33m=\u001b[0m \u001b[0mdeserialize_pieces_matrix\u001b[0m\u001b[1;33m(\u001b[0m\u001b[0mpieces_matrix\u001b[0m\u001b[1;33m)\u001b[0m\u001b[1;33m\u001b[0m\u001b[1;33m\u001b[0m\u001b[0m\n\u001b[0;32m      3\u001b[0m     \u001b[1;31m# use set as order irrelevant\u001b[0m\u001b[1;33m\u001b[0m\u001b[1;33m\u001b[0m\u001b[0m\n\u001b[1;32m----> 4\u001b[1;33m     \u001b[0mlegal_moves_actual\u001b[0m\u001b[1;33m:\u001b[0m \u001b[0mset\u001b[0m\u001b[1;33m[\u001b[0m\u001b[0mpieces\u001b[0m\u001b[1;33m.\u001b[0m\u001b[0mPiece\u001b[0m\u001b[1;33m,\u001b[0m \u001b[0mVector\u001b[0m\u001b[1;33m]\u001b[0m \u001b[1;33m=\u001b[0m \u001b[0mset\u001b[0m\u001b[1;33m(\u001b[0m\u001b[0mboard_state\u001b[0m\u001b[1;33m.\u001b[0m\u001b[0mgenerate_all_pieces\u001b[0m\u001b[1;33m(\u001b[0m\u001b[1;33m)\u001b[0m\u001b[1;33m)\u001b[0m\u001b[1;33m\u001b[0m\u001b[1;33m\u001b[0m\u001b[0m\n\u001b[0m\u001b[0;32m      5\u001b[0m \u001b[1;33m\u001b[0m\u001b[0m\n\u001b[0;32m      6\u001b[0m     \u001b[1;31m# convert square to vector, allowed as this is tested\u001b[0m\u001b[1;33m\u001b[0m\u001b[1;33m\u001b[0m\u001b[0m\n",
      "\u001b[1;31mTypeError\u001b[0m: unhashable type: 'Pawn'"
     ]
    }
   ],
   "source": [
    "test_generate_all_pieces(**test_data)"
   ]
  },
  {
   "cell_type": "code",
   "execution_count": 6,
   "metadata": {},
   "outputs": [],
   "source": [
    "pieces_matrix, pieces_and_squares = test_data[\"pieces_matrix\"], test_data[\"pieces_and_squares\"]"
   ]
  },
  {
   "cell_type": "code",
   "execution_count": 7,
   "metadata": {},
   "outputs": [],
   "source": [
    "board_state: Board_State = deserialize_pieces_matrix(pieces_matrix)"
   ]
  },
  {
   "cell_type": "code",
   "execution_count": 8,
   "metadata": {},
   "outputs": [
    {
     "name": "stdout",
     "output_type": "stream",
     "text": [
      "[[None, None, None, None, None, None, None, None],\n",
      " [None, None, None, None, None, None, None, None],\n",
      " [None, None, None, None, None, None, None, None],\n",
      " [None, None, None, None, None, None, None, None],\n",
      " [None, None, None, None, None, None, None, None],\n",
      " [None, None, None, None, None, None, None, None],\n",
      " ['BP', None, 'BP', None, None, None, None, None],\n",
      " [None, 'WP', None, None, None, None, None, None]]\n"
     ]
    }
   ],
   "source": [
    "_ = board_state.print_board()"
   ]
  },
  {
   "cell_type": "code",
   "execution_count": 10,
   "metadata": {},
   "outputs": [
    {
     "ename": "TypeError",
     "evalue": "unhashable type: 'Pawn'",
     "output_type": "error",
     "traceback": [
      "\u001b[1;31m---------------------------------------------------------------------------\u001b[0m",
      "\u001b[1;31mTypeError\u001b[0m                                 Traceback (most recent call last)",
      "\u001b[1;32m~\\AppData\\Local\\Temp/ipykernel_9988/3176748536.py\u001b[0m in \u001b[0;36m<module>\u001b[1;34m\u001b[0m\n\u001b[1;32m----> 1\u001b[1;33m \u001b[0mlegal_moves_actual\u001b[0m\u001b[1;33m:\u001b[0m \u001b[0mset\u001b[0m\u001b[1;33m[\u001b[0m\u001b[0mpieces\u001b[0m\u001b[1;33m.\u001b[0m\u001b[0mPiece\u001b[0m\u001b[1;33m,\u001b[0m \u001b[0mVector\u001b[0m\u001b[1;33m]\u001b[0m \u001b[1;33m=\u001b[0m \u001b[0mset\u001b[0m\u001b[1;33m(\u001b[0m\u001b[0mboard_state\u001b[0m\u001b[1;33m.\u001b[0m\u001b[0mgenerate_all_pieces\u001b[0m\u001b[1;33m(\u001b[0m\u001b[1;33m)\u001b[0m\u001b[1;33m)\u001b[0m\u001b[1;33m\u001b[0m\u001b[1;33m\u001b[0m\u001b[0m\n\u001b[0m\u001b[0;32m      2\u001b[0m \u001b[0mlegal_moves_actual\u001b[0m\u001b[1;33m\u001b[0m\u001b[1;33m\u001b[0m\u001b[0m\n",
      "\u001b[1;31mTypeError\u001b[0m: unhashable type: 'Pawn'"
     ]
    }
   ],
   "source": [
    "legal_moves_actual: set[pieces.Piece, Vector] = set(board_state.generate_all_pieces())\n",
    "legal_moves_actual"
   ]
  },
  {
   "cell_type": "code",
   "execution_count": 12,
   "metadata": {},
   "outputs": [
    {
     "data": {
      "text/plain": [
       "True"
      ]
     },
     "execution_count": 12,
     "metadata": {},
     "output_type": "execute_result"
    }
   ],
   "source": [
    "(pieces.Pawn(color='B'), Vector(i=0, j=1)) == (pieces.Pawn(color='B'), Vector(i=0, j=1))\n"
   ]
  },
  {
   "cell_type": "code",
   "execution_count": null,
   "metadata": {},
   "outputs": [],
   "source": []
  }
 ],
 "metadata": {
  "kernelspec": {
   "display_name": "Python 3.10.0 64-bit",
   "language": "python",
   "name": "python3"
  },
  "language_info": {
   "codemirror_mode": {
    "name": "ipython",
    "version": 3
   },
   "file_extension": ".py",
   "mimetype": "text/x-python",
   "name": "python",
   "nbconvert_exporter": "python",
   "pygments_lexer": "ipython3",
   "version": "3.10.0"
  },
  "orig_nbformat": 4,
  "vscode": {
   "interpreter": {
    "hash": "1215b1aecdd8c83375b241d0c862057777d1b41ed412da38189195d086960e71"
   }
  }
 },
 "nbformat": 4,
 "nbformat_minor": 2
}
