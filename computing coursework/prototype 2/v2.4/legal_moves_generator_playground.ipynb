{
 "cells": [
  {
   "cell_type": "code",
   "execution_count": 1,
   "metadata": {},
   "outputs": [],
   "source": [
    "from copy import deepcopy\n",
    "from dataclasses import dataclass\n",
    "from itertools import product as iter_product\n",
    "from pprint import pprint\n",
    "\n",
    "\n",
    "import pieces as pieces_mod\n",
    "from assorted import ARBITRARILY_LARGE_VALUE, dev_print\n",
    "from vector import Vector"
   ]
  },
  {
   "cell_type": "code",
   "execution_count": 2,
   "metadata": {},
   "outputs": [],
   "source": [
    "\n",
    "STARTING_POSITIONS: tuple[tuple[pieces_mod.Piece]] = (\n",
    "    (\n",
    "        pieces_mod.Rook(color=\"B\"),\n",
    "        pieces_mod.Knight(color=\"B\"),\n",
    "        pieces_mod.Bishop(color=\"B\"),\n",
    "        pieces_mod.Queen(color=\"B\"),\n",
    "        pieces_mod.King(color=\"B\"),\n",
    "        pieces_mod.Bishop(color=\"B\"),\n",
    "        pieces_mod.Knight(color=\"B\"),\n",
    "        pieces_mod.Rook(color=\"B\")\n",
    "    ),\n",
    "    (pieces_mod.Pawn(color=\"B\"),)*8,\n",
    "    (None,)*8,\n",
    "    (None,)*8,\n",
    "    (None,)*8,\n",
    "    (None,)*8,\n",
    "    (pieces_mod.Pawn(color=\"W\"),)*8,\n",
    "    (\n",
    "        pieces_mod.Rook(color=\"W\"),\n",
    "        pieces_mod.Knight(color=\"W\"),\n",
    "        pieces_mod.Bishop(color=\"W\"),\n",
    "        pieces_mod.Queen(color=\"W\"),\n",
    "        pieces_mod.King(color=\"W\"),\n",
    "        pieces_mod.Bishop(color=\"W\"),\n",
    "        pieces_mod.Knight(color=\"W\"),\n",
    "        pieces_mod.Rook(color=\"W\")\n",
    "    )\n",
    ")\n",
    "\n",
    "@dataclass(frozen=True)\n",
    "class Board_State():\n",
    "    pieces_matrix: tuple[tuple[pieces_mod.Piece]]\n",
    "    next_to_go: int = \"W\"\n",
    "    # pieces_matrix: tuple[tuple[pieces_mod.Piece]] = STARTING_POSITIONS\n",
    "\n",
    "    def print_board(self, print_function=pprint):\n",
    "        print_function(\n",
    "            list(map(\n",
    "                lambda row: list(map(\n",
    "                    lambda piece: None if piece is None else piece.symbol(),\n",
    "                    row\n",
    "                )),\n",
    "                self.pieces_matrix\n",
    "            ))\n",
    "        )\n",
    "\n",
    "    def get_piece_at_vector(self, vector: Vector):\n",
    "        column, row = vector.i, 7-vector.j\n",
    "        # column, row = vector.i, vector.j\n",
    "        return self.pieces_matrix[row][column]\n",
    "\n",
    "    def generate_all_pieces(self):\n",
    "        # for i, j in zip(range(8), range(8)):\n",
    "        # should be product\n",
    "        for i, j in iter_product(range(8), range(8)):\n",
    "            position_vector = Vector(i,j)\n",
    "            piece = self.get_piece_at_vector(position_vector)\n",
    "            # skip if none\n",
    "            if piece:\n",
    "                yield piece, position_vector\n",
    "            # if piece:\n",
    "            #     dev_print(f\"not skipping {position_vector}\")\n",
    "            #     yield piece, position_vector\n",
    "            # else:\n",
    "            #     dev_print(f\"skipping {position_vector}\")\n",
    "\n",
    "    def generate_pieces_of_color(self, color=None):\n",
    "        if color is None:\n",
    "            color = self.next_to_go\n",
    "\n",
    "        def same_color(data_item):\n",
    "            piece, _ = data_item\n",
    "            return piece.color == color\n",
    "\n",
    "        yield from filter(\n",
    "            same_color,\n",
    "            self.generate_all_pieces()\n",
    "        )\n",
    "\n",
    "    def color_in_check(self, color=None):\n",
    "        if color is None:\n",
    "            color = self.next_to_go\n",
    "            \n",
    "        # it is now A's turn\n",
    "        color_a = color\n",
    "        color_b = \"W\" if color == \"B\" else \"B\"\n",
    "        \n",
    "        # we will examine all the movement vectors of B's pieces \n",
    "        # if any of them could take the A's King then currently A is in check as their king is threatened by 1 or more pieces (which could take it next turn)\n",
    "        for piece, position_v in self.generate_pieces_of_color(color=color_b):\n",
    "            movement_vs = piece.generate_movement_vectors(\n",
    "                pieces_matrix=self.pieces_matrix,\n",
    "                position_vector=position_v\n",
    "            )\n",
    "            for movement_v in movement_vs:\n",
    "                resultant = position_v + movement_v\n",
    "                to_square = self.get_piece_at_vector(resultant)\n",
    "                # print(f\"to_square   -->   {to_square!r}\")\n",
    "                # dev_print(f\"piece at square {resultant.to_square()} is {to_square.symbol() if to_square else '<empty>'}\")\n",
    "                # dev_print(f\"piece at square {resultant.to_square()} is {repr(to_square) if to_square else '<empty>'}\")\n",
    "                # As_move_threatens_king_A = isinstance(to_square, pieces_mod.King) and to_square.color == color_a\n",
    "                As_move_threatens_king_A = (to_square == pieces_mod.King(color=color_a))\n",
    "                # print(f\"to_square == pieces_mod.King(color='B')   -->   {to_square!r} == {pieces_mod.King(color='B')!r}   -->    {to_square == pieces_mod.King(color='B')}\")\n",
    "                # dev_print(f\"therefore king {'IS' if As_move_threatens_king_A else 'NOT'} threatened as square {'DOES' if As_move_threatens_king_A else 'DOES NOT'} contain {pieces_mod.King(color=color_a)!r} instead containing {repr(to_square) if to_square else '<empty>'}\")\n",
    "                # if As_move_threatens_king_A break out of all 3 loops\n",
    "                if As_move_threatens_king_A:\n",
    "                    # dev_print(f\"color_in_check(color='{color}') returning True\")\n",
    "                    # dev_print(f\"piece {piece.symbol()} at {position_v.to_square()} moving to {resultant.to_square()} IS threatening king\")\n",
    "                    return True\n",
    "                # else:\n",
    "                    # dev_print(f\"piece {piece.symbol()} at {position_v.to_square()} moving to {resultant.to_square()} NOT threatening king\")\n",
    "        # dev_print(f\"color_in_check(color='{color}') returning False\")\n",
    "        return False\n",
    "\n",
    "    \n",
    "    def generate_legal_moves(self):\n",
    "        # dev_print(f\"analysing legal moves for next to go {self.next_to_go}\")\n",
    "        for piece, piece_position_vector in self.generate_pieces_of_color(color=self.next_to_go):\n",
    "            # dev_print(f\"analysing moves for piece: {piece.symbol()}\")\n",
    "            movement_vectors = piece.generate_movement_vectors(\n",
    "                pieces_matrix=self.pieces_matrix,\n",
    "                position_vector=piece_position_vector\n",
    "            )\n",
    "            for movement_vector in movement_vectors:\n",
    "                # dev_print(f\"\\tpiece {piece.symbol()}:_analysing movement vector {repr(movement_vector)}\")\n",
    "                child_game_state: Board_State = self.make_move(from_position_vector=piece_position_vector, movement_vector=movement_vector)\n",
    "                # dev_print(f\"\\t\\tmovement vector {repr(movement_vector)}: results in child game state\")\n",
    "                # child_game_state.print_board(\n",
    "                #     print_function=lambda rows: list(map(\n",
    "                #         lambda item: print(f\"\\t\\t{item}\"), \n",
    "                #         rows\n",
    "                #     ))\n",
    "                # )\n",
    "                # dev_print(repr(child_game_state))\n",
    "                is_check_after_move = child_game_state.color_in_check(color=self.next_to_go)\n",
    "                dev_print(f\"\\t\\tThis game state in check? for {self.next_to_go}:  {is_check_after_move}\")\n",
    "\n",
    "                if not is_check_after_move:\n",
    "                    yield piece_position_vector, movement_vector\n",
    "\n",
    "    # def generate_legal_moves(self):\n",
    "    #     for piece, piece_position_vector in self.generate_pieces_of_color(color=self.next_to_go):\n",
    "    #         movement_vectors = piece.generate_movement_vectors(\n",
    "    #             pieces_matrix=self.pieces_matrix,\n",
    "    #             position_vector=piece_position_vector\n",
    "    #         )\n",
    "    #         for movement_vector in movement_vectors:\n",
    "    #             child_game_state = self.make_move(from_position_vector=piece_position_vector, movement_vector=movement_vector)\n",
    "    #             is_check_after_move = child_game_state.color_in_check(color=self.next_to_go)\n",
    "    #             if not is_check_after_move:\n",
    "    #                 yield piece_position_vector, movement_vector\n",
    "\n",
    "    def is_game_over_for_next_to_go(self):\n",
    "        # check if in checkmate\n",
    "        # for player a\n",
    "        # if b has no moves\n",
    "        if not list(self.generate_legal_moves()):\n",
    "            # if b in check\n",
    "            if self.color_in_check():\n",
    "                # checkmate for b, a wins\n",
    "                return True, self.next_to_go\n",
    "            else:\n",
    "                # stalemate\n",
    "                return True, None\n",
    "\n",
    "        return False, None\n",
    "\n",
    "    def static_evaluation(self):\n",
    "        \"\"\"Give positive static evaluation if white is winning\"\"\"\n",
    "        def generate_all_pieces():\n",
    "            for i, j in iter_product(range(8), range(8)):\n",
    "                piece_position_vector = Vector(i, j)\n",
    "                piece: pieces_mod.Piece = self.get_piece_at_vector(piece_position_vector)\n",
    "                if not piece:\n",
    "                    continue\n",
    "\n",
    "                yield piece, piece_position_vector\n",
    "    \n",
    "        over, winner = self.is_game_over_for_next_to_go()\n",
    "        if over:\n",
    "            match winner:\n",
    "                case None: multiplier = 0\n",
    "                case \"W\": multiplier = 1\n",
    "                case \"B\": multiplier = -1\n",
    "            return winner * ARBITRARILY_LARGE_VALUE\n",
    "\n",
    "        else:\n",
    "            return sum(piece.get_value(position_vector) * multiplier for piece, position_vector in generate_all_pieces())\n",
    "\n",
    "    def make_move(self, from_position_vector: Vector, movement_vector: Vector):\n",
    "        to_position_vector = from_position_vector + movement_vector\n",
    "        # poor code, this below line can cause infinite recursion when legal moves generator called post check changes\n",
    "        # assert (from_position_vector, movement_vector) in self.generate_legal_moves()\n",
    "\n",
    "        new_pieces_matrix = deepcopy(self.pieces_matrix)\n",
    "        # convert to list\n",
    "        new_pieces_matrix = list(map(list, new_pieces_matrix))\n",
    "\n",
    "        # set from to blank\n",
    "        row, col = 7-from_position_vector.j, from_position_vector.i\n",
    "        piece: pieces_mod.Piece = new_pieces_matrix[row][col]\n",
    "\n",
    "        piece.last_move = movement_vector\n",
    "\n",
    "        new_pieces_matrix[row][col] = None\n",
    "\n",
    "        # set to square to this piece\n",
    "        row, col = 7-to_position_vector.j, to_position_vector.i\n",
    "        new_pieces_matrix[row][col] = piece\n",
    "\n",
    "        # convert back to tuple\n",
    "        new_pieces_matrix = tuple(map(tuple, new_pieces_matrix))\n",
    "        new_next_to_go = \"W\" if self.next_to_go == \"B\" else \"B\"\n",
    "\n",
    "        return Board_State(\n",
    "            next_to_go=new_next_to_go,\n",
    "            pieces_matrix=new_pieces_matrix\n",
    "        )\n",
    "\n"
   ]
  },
  {
   "cell_type": "code",
   "execution_count": 3,
   "metadata": {},
   "outputs": [],
   "source": [
    "\n",
    "# tested so assumed correct\n",
    "import pieces\n",
    "from vector import Vector\n",
    "\n",
    "\n",
    "def test_dir(file_name): return f\"test_data/board_state/{file_name}.yaml\"\n",
    "\n",
    "# code repeated from test pieces, opportunity to reduce redundancy\n",
    "\n",
    "\n",
    "def list_map(function, iterable): return list(map(function, iterable))\n",
    "def tuple_map(function, iterable): return tuple(map(function, iterable))\n",
    "\n",
    "\n",
    "def descriptor_to_piece(descriptor) -> pieces.Piece:\n",
    "    # converts WN to knight object with a color attribute of white\n",
    "    if descriptor is None:\n",
    "        return None\n",
    "\n",
    "    color, symbol = descriptor\n",
    "    piece_type: pieces.Piece = pieces.PIECE_TYPES[symbol]\n",
    "    return piece_type(color=color)\n",
    "\n",
    "\n",
    "def deserialize_pieces_matrix(pieces_matrix, next_to_go=\"W\") -> Board_State:\n",
    "    def row_of_symbols_to_pieces(row):\n",
    "        return list_map(descriptor_to_piece, row)\n",
    "\n",
    "    # update pieces_matrix replacing piece descriptors to piece objects\n",
    "    pieces_matrix = list_map(row_of_symbols_to_pieces, pieces_matrix)\n",
    "    board_state: Board_State = Board_State(pieces_matrix=pieces_matrix, next_to_go=next_to_go)\n",
    "\n",
    "    return board_state\n"
   ]
  },
  {
   "cell_type": "code",
   "execution_count": 4,
   "metadata": {},
   "outputs": [],
   "source": [
    "\n",
    "next_to_go = \"B\"\n",
    "pieces_matrix = [\n",
    "    [None, None, None, \"BK\", None, None, None, None],\n",
    "    [None, None, None, \"WP\", None, None, None, None],\n",
    "    [None, None, None, \"WK\", None, None, None, None],\n",
    "    [None, None, None, None, None, None, None, None],\n",
    "    [None, None, None, None, None, None, None, None],\n",
    "    [None, None, None, None, None, None, None, None],\n",
    "    [None, None, None, None, None, None, None, None],\n",
    "    [None, None, None, None, None, None, None, None]\n",
    "]\n",
    "expected_legal_moves = []\n"
   ]
  },
  {
   "cell_type": "code",
   "execution_count": 5,
   "metadata": {},
   "outputs": [],
   "source": [
    "board_state: Board_State = deserialize_pieces_matrix(pieces_matrix=pieces_matrix, next_to_go=next_to_go)\n"
   ]
  },
  {
   "cell_type": "code",
   "execution_count": 6,
   "metadata": {},
   "outputs": [
    {
     "name": "stdout",
     "output_type": "stream",
     "text": [
      "[[None, None, None, 'BK', None, None, None, None],\n",
      " [None, None, None, 'WP', None, None, None, None],\n",
      " [None, None, None, 'WK', None, None, None, None],\n",
      " [None, None, None, None, None, None, None, None],\n",
      " [None, None, None, None, None, None, None, None],\n",
      " [None, None, None, None, None, None, None, None],\n",
      " [None, None, None, None, None, None, None, None],\n",
      " [None, None, None, None, None, None, None, None]]\n"
     ]
    }
   ],
   "source": [
    "board_state.print_board()"
   ]
  },
  {
   "cell_type": "code",
   "execution_count": 7,
   "metadata": {},
   "outputs": [
    {
     "name": "stdout",
     "output_type": "stream",
     "text": [
      "\t\tThis game state in check? for B:  True\n",
      "\t\tThis game state in check? for B:  True\n",
      "\t\tThis game state in check? for B:  True\n",
      "\t\tThis game state in check? for B:  True\n",
      "\t\tThis game state in check? for B:  True\n"
     ]
    },
    {
     "data": {
      "text/plain": [
       "set()"
      ]
     },
     "execution_count": 7,
     "metadata": {},
     "output_type": "execute_result"
    }
   ],
   "source": [
    "set(board_state.generate_legal_moves())\n"
   ]
  },
  {
   "cell_type": "code",
   "execution_count": 8,
   "metadata": {},
   "outputs": [],
   "source": [
    "board_state = Board_State(\n",
    "    next_to_go=\"W\",\n",
    "    pieces_matrix= [\n",
    "        [None, None, pieces.King(color=\"B\"), None, None, None, None, None],\n",
    "        [None, None, None, pieces.Pawn(color=\"W\"), None, None, None, None],\n",
    "        [None, None, None, pieces.King(color=\"W\"), None, None, None, None],\n",
    "        [None, None, None, None, None, None, None, None],\n",
    "        [None, None, None, None, None, None, None, None],\n",
    "        [None, None, None, None, None, None, None, None],\n",
    "        [None, None, None, None, None, None, None, None],\n",
    "        [None, None, None, None, None, None, None, None]\n",
    "    ]\n",
    ")"
   ]
  },
  {
   "cell_type": "code",
   "execution_count": 9,
   "metadata": {},
   "outputs": [
    {
     "data": {
      "text/plain": [
       "False"
      ]
     },
     "execution_count": 9,
     "metadata": {},
     "output_type": "execute_result"
    }
   ],
   "source": [
    "board_state.color_in_check(\"W\")"
   ]
  },
  {
   "cell_type": "code",
   "execution_count": 10,
   "metadata": {},
   "outputs": [
    {
     "data": {
      "text/plain": [
       "True"
      ]
     },
     "execution_count": 10,
     "metadata": {},
     "output_type": "execute_result"
    }
   ],
   "source": [
    "board_state.color_in_check(\"B\")"
   ]
  },
  {
   "cell_type": "code",
   "execution_count": 11,
   "metadata": {},
   "outputs": [
    {
     "data": {
      "text/plain": [
       "True"
      ]
     },
     "execution_count": 11,
     "metadata": {},
     "output_type": "execute_result"
    }
   ],
   "source": [
    "pieces.King(\"B\") == pieces.King(\"B\")"
   ]
  },
  {
   "cell_type": "code",
   "execution_count": null,
   "metadata": {},
   "outputs": [],
   "source": []
  }
 ],
 "metadata": {
  "kernelspec": {
   "display_name": "Python 3.10.0 64-bit",
   "language": "python",
   "name": "python3"
  },
  "language_info": {
   "codemirror_mode": {
    "name": "ipython",
    "version": 3
   },
   "file_extension": ".py",
   "mimetype": "text/x-python",
   "name": "python",
   "nbconvert_exporter": "python",
   "pygments_lexer": "ipython3",
   "version": "3.10.0"
  },
  "orig_nbformat": 4,
  "vscode": {
   "interpreter": {
    "hash": "1215b1aecdd8c83375b241d0c862057777d1b41ed412da38189195d086960e71"
   }
  }
 },
 "nbformat": 4,
 "nbformat_minor": 2
}
