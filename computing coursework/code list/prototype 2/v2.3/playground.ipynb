{
 "cells": [
  {
   "cell_type": "code",
   "execution_count": 2,
   "metadata": {},
   "outputs": [],
   "source": [
    "from game_state import *\n",
    "from pieces import *\n",
    "from assorted_functions import *"
   ]
  },
  {
   "cell_type": "code",
   "execution_count": 3,
   "metadata": {},
   "outputs": [
    {
     "name": "stdout",
     "output_type": "stream",
     "text": [
      "[['BC', 'BH', 'BB', 'BQ', 'BK', 'BB', 'BH', 'BC'],\n",
      " ['BP', 'BP', 'BP', 'BP', 'BP', 'BP', 'BP', 'BP'],\n",
      " [None, None, None, None, None, None, None, None],\n",
      " [None, None, None, None, None, None, None, None],\n",
      " [None, None, None, None, None, None, None, None],\n",
      " [None, None, None, None, None, None, None, None],\n",
      " ['WP', 'WP', 'WP', 'WP', 'WP', 'WP', 'WP', 'WP'],\n",
      " ['WC', 'WH', 'WB', 'WQ', 'WK', 'WB', 'WH', 'WC']]\n",
      "Vector(i=0, j=0) --> Vector(i=0, j=2)\n",
      "Vector(i=0, j=0) --> Vector(i=0, j=3)\n",
      "Vector(i=0, j=0) --> Vector(i=0, j=4)\n",
      "Vector(i=0, j=0) --> Vector(i=0, j=5)\n",
      "Vector(i=0, j=0) --> Vector(i=0, j=6)\n",
      "Vector(i=0, j=0) --> Vector(i=0, j=7)\n",
      "Vector(i=0, j=1) --> Vector(i=0, j=2)\n",
      "Vector(i=0, j=1) --> Vector(i=0, j=3)\n",
      "Vector(i=1, j=0) --> Vector(i=0, j=2)\n",
      "Vector(i=1, j=0) --> Vector(i=2, j=2)\n",
      "Vector(i=1, j=1) --> Vector(i=1, j=2)\n",
      "Vector(i=1, j=1) --> Vector(i=1, j=3)\n",
      "Vector(i=2, j=0) --> Vector(i=0, j=2)\n",
      "Vector(i=2, j=0) --> Vector(i=4, j=2)\n",
      "Vector(i=2, j=0) --> Vector(i=5, j=3)\n",
      "Vector(i=2, j=0) --> Vector(i=6, j=4)\n",
      "Vector(i=2, j=0) --> Vector(i=7, j=5)\n",
      "Vector(i=2, j=1) --> Vector(i=2, j=2)\n",
      "Vector(i=2, j=1) --> Vector(i=2, j=3)\n",
      "Vector(i=3, j=0) --> Vector(i=1, j=2)\n",
      "Vector(i=3, j=0) --> Vector(i=0, j=3)\n",
      "Vector(i=3, j=0) --> Vector(i=3, j=2)\n",
      "Vector(i=3, j=0) --> Vector(i=3, j=3)\n",
      "Vector(i=3, j=0) --> Vector(i=3, j=4)\n",
      "Vector(i=3, j=0) --> Vector(i=3, j=5)\n",
      "Vector(i=3, j=0) --> Vector(i=3, j=6)\n",
      "Vector(i=3, j=0) --> Vector(i=3, j=7)\n",
      "Vector(i=3, j=0) --> Vector(i=5, j=2)\n",
      "Vector(i=3, j=0) --> Vector(i=6, j=3)\n",
      "Vector(i=3, j=0) --> Vector(i=7, j=4)\n",
      "Vector(i=3, j=1) --> Vector(i=3, j=2)\n",
      "Vector(i=3, j=1) --> Vector(i=3, j=3)\n",
      "Vector(i=4, j=1) --> Vector(i=4, j=2)\n",
      "Vector(i=4, j=1) --> Vector(i=4, j=3)\n",
      "Vector(i=5, j=0) --> Vector(i=3, j=2)\n",
      "Vector(i=5, j=0) --> Vector(i=2, j=3)\n",
      "Vector(i=5, j=0) --> Vector(i=1, j=4)\n",
      "Vector(i=5, j=0) --> Vector(i=0, j=5)\n",
      "Vector(i=5, j=0) --> Vector(i=7, j=2)\n",
      "Vector(i=5, j=1) --> Vector(i=5, j=2)\n",
      "Vector(i=5, j=1) --> Vector(i=5, j=3)\n",
      "Vector(i=6, j=0) --> Vector(i=5, j=2)\n",
      "Vector(i=6, j=0) --> Vector(i=7, j=2)\n",
      "Vector(i=6, j=1) --> Vector(i=6, j=2)\n",
      "Vector(i=6, j=1) --> Vector(i=6, j=3)\n",
      "Vector(i=7, j=0) --> Vector(i=7, j=2)\n",
      "Vector(i=7, j=0) --> Vector(i=7, j=3)\n",
      "Vector(i=7, j=0) --> Vector(i=7, j=4)\n",
      "Vector(i=7, j=0) --> Vector(i=7, j=5)\n",
      "Vector(i=7, j=0) --> Vector(i=7, j=6)\n",
      "Vector(i=7, j=0) --> Vector(i=7, j=7)\n",
      "Vector(i=7, j=1) --> Vector(i=7, j=2)\n",
      "Vector(i=7, j=1) --> Vector(i=7, j=3)\n",
      "board_state.next_to_go  -->   1\n",
      "board_state.static_evaluation()  -->   -370\n"
     ]
    }
   ],
   "source": [
    "board_state = Board_State()\n",
    "\n",
    "board_state.print_board()\n",
    "legal_moves = sorted(\n",
    "    board_state.generate_legal_moves(),\n",
    "    key=repr\n",
    ")\n",
    "for v_from, v_move in legal_moves:\n",
    "    print(f\"{repr(v_from)} --> {repr(v_from + v_move)}\")\n",
    "print(f\"board_state.next_to_go  -->   {board_state.next_to_go}\")\n",
    "print(f\"board_state.static_evaluation()  -->   {board_state.static_evaluation()}\")\n"
   ]
  },
  {
   "cell_type": "code",
   "execution_count": 4,
   "metadata": {},
   "outputs": [
    {
     "name": "stdout",
     "output_type": "stream",
     "text": [
      "<pieces.Castle object at 0x0000026647B67910>\n"
     ]
    }
   ],
   "source": [
    "pos_v = Vector(i=0, j=0)\n",
    "print(board_state.get_piece_at_vector(pos_v))\n"
   ]
  },
  {
   "cell_type": "markdown",
   "metadata": {},
   "source": [
    "this is breaking code that highlights and issue"
   ]
  },
  {
   "cell_type": "markdown",
   "metadata": {},
   "source": [
    "pos_v = Vector(i=0, j=0)\n",
    "board_state.\\\n",
    "    get_piece_at_vector(pos_v).\\\n",
    "    generate_movement_vectors(\n",
    "        pieces_matrix=board_state.pieces_matrix,\n",
    "        position_vector=pos_v\n",
    "    )"
   ]
  },
  {
   "cell_type": "code",
   "execution_count": 5,
   "metadata": {},
   "outputs": [
    {
     "name": "stdout",
     "output_type": "stream",
     "text": [
      "[['BC', 'BH', 'BB', 'BQ', 'BK', 'BB', 'BH', 'BC'],\n",
      " ['BP', 'BP', 'BP', 'BP', 'BP', 'BP', 'BP', 'BP'],\n",
      " [None, None, None, None, None, None, None, None],\n",
      " [None, None, None, None, None, None, None, None],\n",
      " ['WP', None, None, None, None, None, None, None],\n",
      " [None, None, None, None, None, None, None, None],\n",
      " [None, 'WP', 'WP', 'WP', 'WP', 'WP', 'WP', 'WP'],\n",
      " ['WC', 'WH', 'WB', 'WQ', 'WK', 'WB', 'WH', 'WC']]\n",
      "board_state.next_to_go  -->   -1\n",
      "board_state.static_evaluation()  -->   -405\n"
     ]
    }
   ],
   "source": [
    "board_state = board_state.make_move(\n",
    "    from_position_vector=Vector(0, 1),\n",
    "    movement_vector=Vector(0, 2)\n",
    ")\n",
    "\n",
    "board_state.print_board()\n",
    "legal_moves = sorted(\n",
    "    board_state.generate_legal_moves(),\n",
    "    key=repr\n",
    ")\n",
    "# for v_from, v_move in legal_moves:\n",
    "#     print(f\"{repr(v_from)} --> {repr(v_from + v_move)}\")\n",
    "print(f\"board_state.next_to_go  -->   {board_state.next_to_go}\")\n",
    "print(f\"board_state.static_evaluation()  -->   {board_state.static_evaluation()}\")\n"
   ]
  },
  {
   "cell_type": "code",
   "execution_count": 6,
   "metadata": {},
   "outputs": [
    {
     "name": "stdout",
     "output_type": "stream",
     "text": [
      "[['BC', 'BH', 'BB', 'BQ', 'BK', 'BB', 'BH', 'BC'],\n",
      " ['BP', None, 'BP', 'BP', 'BP', 'BP', 'BP', 'BP'],\n",
      " [None, None, None, None, None, None, None, None],\n",
      " [None, 'BP', None, None, None, None, None, None],\n",
      " ['WP', None, None, None, None, None, None, None],\n",
      " [None, None, None, None, None, None, None, None],\n",
      " [None, 'WP', 'WP', 'WP', 'WP', 'WP', 'WP', 'WP'],\n",
      " ['WC', 'WH', 'WB', 'WQ', 'WK', 'WB', 'WH', 'WC']]\n",
      "board_state.next_to_go  -->   1\n",
      "board_state.static_evaluation()  -->   -360\n"
     ]
    }
   ],
   "source": [
    "board_state = board_state.make_move(\n",
    "    from_position_vector=Vector(1, 6),\n",
    "    movement_vector=Vector(0, -2)\n",
    ")\n",
    "\n",
    "board_state.print_board()\n",
    "legal_moves = sorted(\n",
    "    board_state.generate_legal_moves(),\n",
    "    key=repr\n",
    ")\n",
    "# for v_from, v_move in legal_moves:\n",
    "#     print(f\"{repr(v_from)} --> {repr(v_from + v_move)}\")\n",
    "print(f\"board_state.next_to_go  -->   {board_state.next_to_go}\")\n",
    "print(f\"board_state.static_evaluation()  -->   {board_state.static_evaluation()}\")\n"
   ]
  },
  {
   "cell_type": "code",
   "execution_count": 7,
   "metadata": {},
   "outputs": [
    {
     "name": "stdout",
     "output_type": "stream",
     "text": [
      "[['BC', 'BH', 'BB', 'BQ', 'BK', 'BB', 'BH', 'BC'],\n",
      " ['BP', None, 'BP', 'BP', 'BP', 'BP', 'BP', 'BP'],\n",
      " [None, None, None, None, None, None, None, None],\n",
      " [None, 'WP', None, None, None, None, None, None],\n",
      " [None, None, None, None, None, None, None, None],\n",
      " [None, None, None, None, None, None, None, None],\n",
      " [None, 'WP', 'WP', 'WP', 'WP', 'WP', 'WP', 'WP'],\n",
      " ['WC', 'WH', 'WB', 'WQ', 'WK', 'WB', 'WH', 'WC']]\n",
      "board_state.next_to_go  -->   -1\n",
      "board_state.static_evaluation()  -->   -250\n"
     ]
    }
   ],
   "source": [
    "board_state = board_state.make_move(\n",
    "    from_position_vector=Vector(0, 3),\n",
    "    movement_vector=Vector(1, 1)\n",
    ")\n",
    "\n",
    "board_state.print_board()\n",
    "legal_moves = sorted(\n",
    "    board_state.generate_legal_moves(),\n",
    "    key=repr\n",
    ")\n",
    "# for v_from, v_move in legal_moves:\n",
    "#     print(f\"{repr(v_from)} --> {repr(v_from + v_move)}\")\n",
    "print(f\"board_state.next_to_go  -->   {board_state.next_to_go}\")\n",
    "print(f\"board_state.static_evaluation()  -->   {board_state.static_evaluation()}\")\n"
   ]
  },
  {
   "cell_type": "code",
   "execution_count": 8,
   "metadata": {},
   "outputs": [
    {
     "name": "stdout",
     "output_type": "stream",
     "text": [
      "[['BC', 'BH', None, 'BQ', 'BK', 'BB', 'BH', 'BC'],\n",
      " ['BP', None, 'BP', 'BP', 'BP', 'BP', 'BP', 'BP'],\n",
      " ['BB', None, None, None, None, None, None, None],\n",
      " [None, 'WP', None, None, None, None, None, None],\n",
      " [None, None, None, None, None, None, None, None],\n",
      " [None, None, None, None, None, None, None, None],\n",
      " [None, 'WP', 'WP', 'WP', 'WP', 'WP', 'WP', 'WP'],\n",
      " ['WC', 'WH', 'WB', 'WQ', 'WK', 'WB', 'WH', 'WC']]\n",
      "board_state.next_to_go  -->   1\n",
      "board_state.static_evaluation()  -->   -250\n"
     ]
    }
   ],
   "source": [
    "board_state = board_state.make_move(\n",
    "    from_position_vector=Vector(2, 7),\n",
    "    movement_vector=Vector(-2, -2)\n",
    ")\n",
    "\n",
    "board_state.print_board()\n",
    "legal_moves = sorted(\n",
    "    board_state.generate_legal_moves(),\n",
    "    key=repr\n",
    ")\n",
    "# for v_from, v_move in legal_moves:\n",
    "#     print(f\"{repr(v_from)} --> {repr(v_from + v_move)}\")\n",
    "print(f\"board_state.next_to_go  -->   {board_state.next_to_go}\")\n",
    "print(f\"board_state.static_evaluation()  -->   {board_state.static_evaluation()}\")\n"
   ]
  },
  {
   "cell_type": "code",
   "execution_count": 9,
   "metadata": {},
   "outputs": [
    {
     "name": "stdout",
     "output_type": "stream",
     "text": [
      "[['BC', 'BH', None, 'BQ', 'BK', 'BB', 'BH', 'BC'],\n",
      " ['BP', None, 'BP', 'BP', 'BP', 'BP', 'BP', 'BP'],\n",
      " ['WC', None, None, None, None, None, None, None],\n",
      " [None, 'WP', None, None, None, None, None, None],\n",
      " [None, None, None, None, None, None, None, None],\n",
      " [None, None, None, None, None, None, None, None],\n",
      " [None, 'WP', 'WP', 'WP', 'WP', 'WP', 'WP', 'WP'],\n",
      " [None, 'WH', 'WB', 'WQ', 'WK', 'WB', 'WH', 'WC']]\n",
      "board_state.next_to_go  -->   -1\n",
      "board_state.static_evaluation()  -->   65\n"
     ]
    }
   ],
   "source": [
    "board_state = board_state.make_move(\n",
    "    from_position_vector=Vector(0, 0),\n",
    "    movement_vector=Vector(0, 5)\n",
    ")\n",
    "\n",
    "board_state.print_board()\n",
    "legal_moves = sorted(\n",
    "    board_state.generate_legal_moves(),\n",
    "    key=repr\n",
    ")\n",
    "# for v_from, v_move in legal_moves:\n",
    "#     print(f\"{repr(v_from)} --> {repr(v_from + v_move)}\")\n",
    "print(f\"board_state.next_to_go  -->   {board_state.next_to_go}\")\n",
    "print(f\"board_state.static_evaluation()  -->   {board_state.static_evaluation()}\")\n"
   ]
  },
  {
   "cell_type": "code",
   "execution_count": 10,
   "metadata": {},
   "outputs": [
    {
     "name": "stdout",
     "output_type": "stream",
     "text": [
      "[['BC', 'BH', None, 'BQ', 'BK', 'BB', 'BH', 'BC'],\n",
      " ['BP', None, 'BP', 'BP', None, 'BP', 'BP', 'BP'],\n",
      " ['WC', None, None, None, None, None, None, None],\n",
      " [None, 'WP', None, None, 'BP', None, None, None],\n",
      " [None, None, None, None, None, None, None, None],\n",
      " [None, None, None, None, None, None, None, None],\n",
      " [None, 'WP', 'WP', 'WP', 'WP', 'WP', 'WP', 'WP'],\n",
      " [None, 'WH', 'WB', 'WQ', 'WK', 'WB', 'WH', 'WC']]\n",
      "WH\n",
      "board_state.next_to_go  -->   1\n",
      "board_state.static_evaluation()  -->   90\n"
     ]
    }
   ],
   "source": [
    "board_state = board_state.make_move(\n",
    "    from_position_vector=Vector(4, 6),\n",
    "    movement_vector=Vector(0, -2)\n",
    ")\n",
    "\n",
    "board_state.print_board()\n",
    "legal_moves = sorted(\n",
    "    board_state.generate_legal_moves(),\n",
    "    key=repr\n",
    ")\n",
    "# for v_from, v_move in legal_moves:\n",
    "#     # if v_from == Vector(0, 6):\n",
    "#     #     print(f\"{repr(v_from)} --> {repr(v_from + v_move)}\")\n",
    "#     print(f\"{board_state.piece_at_vector(v_from).symbol}: {repr(v_from)} --> {repr(v_from + v_move)}\")\n",
    "print(board_state.get_piece_at_vector(Vector(6, 0)).symbol)\n",
    "print(f\"board_state.next_to_go  -->   {board_state.next_to_go}\")\n",
    "print(f\"board_state.static_evaluation()  -->   {board_state.static_evaluation()}\")\n"
   ]
  },
  {
   "cell_type": "code",
   "execution_count": 11,
   "metadata": {},
   "outputs": [
    {
     "name": "stdout",
     "output_type": "stream",
     "text": [
      "[['BC', 'BH', None, 'BQ', 'BK', 'BB', 'BH', 'BC'],\n",
      " ['BP', None, 'BP', 'BP', None, 'BP', 'BP', 'BP'],\n",
      " ['WC', None, None, None, None, None, None, None],\n",
      " [None, 'WP', None, None, 'BP', None, None, None],\n",
      " [None, None, None, None, None, None, None, None],\n",
      " [None, None, None, None, None, None, None, 'WH'],\n",
      " [None, 'WP', 'WP', 'WP', 'WP', 'WP', 'WP', 'WP'],\n",
      " [None, 'WH', 'WB', 'WQ', 'WK', 'WB', None, 'WC']]\n",
      "board_state.next_to_go  -->   -1\n",
      "board_state.static_evaluation()  -->   100\n"
     ]
    }
   ],
   "source": [
    "board_state = board_state.make_move(\n",
    "    from_position_vector=Vector(6, 0),\n",
    "    movement_vector=Vector(1, 2)\n",
    ")\n",
    "\n",
    "board_state.print_board()\n",
    "legal_moves = sorted(\n",
    "    board_state.generate_legal_moves(),\n",
    "    key=repr\n",
    ")\n",
    "# for v_from, v_move in legal_moves:\n",
    "#     print(f\"{repr(v_from)} --> {repr(v_from + v_move)}\")\n",
    "print(f\"board_state.next_to_go  -->   {board_state.next_to_go}\")\n",
    "print(f\"board_state.static_evaluation()  -->   {board_state.static_evaluation()}\")\n"
   ]
  },
  {
   "cell_type": "code",
   "execution_count": 12,
   "metadata": {},
   "outputs": [
    {
     "name": "stdout",
     "output_type": "stream",
     "text": [
      "[['BC', 'BH', None, None, 'BK', 'BB', 'BH', 'BC'],\n",
      " ['BP', None, 'BP', 'BP', None, 'BP', 'BP', 'BP'],\n",
      " ['WC', None, None, None, None, None, None, None],\n",
      " [None, 'WP', None, None, 'BP', None, None, None],\n",
      " [None, None, None, None, None, None, None, 'BQ'],\n",
      " [None, None, None, None, None, None, None, 'WH'],\n",
      " [None, 'WP', 'WP', 'WP', 'WP', 'WP', 'WP', 'WP'],\n",
      " [None, 'WH', 'WB', 'WQ', 'WK', 'WB', None, 'WC']]\n",
      "board_state.next_to_go  -->   1\n",
      "board_state.static_evaluation()  -->   100\n"
     ]
    }
   ],
   "source": [
    "board_state = board_state.make_move(\n",
    "    from_position_vector=Vector(3, 7),\n",
    "    movement_vector=Vector(4, -4)\n",
    ")\n",
    "\n",
    "board_state.print_board()\n",
    "legal_moves = sorted(\n",
    "    board_state.generate_legal_moves(),\n",
    "    key=repr\n",
    ")\n",
    "# for v_from, v_move in legal_moves:\n",
    "#     print(f\"{repr(v_from)} --> {repr(v_from + v_move)}\")\n",
    "print(f\"board_state.next_to_go  -->   {board_state.next_to_go}\")\n",
    "print(f\"board_state.static_evaluation()  -->   {board_state.static_evaluation()}\")"
   ]
  },
  {
   "cell_type": "markdown",
   "metadata": {},
   "source": [
    "Rook example of check and then checkmate from https://www.youtube.com/watch?v=nBo_S7_hrcI&t=158s"
   ]
  },
  {
   "cell_type": "code",
   "execution_count": 13,
   "metadata": {},
   "outputs": [],
   "source": [
    "BK = pieces_mod.King(color='B', owner=-1)\n",
    "WK = pieces_mod.King(color='W', owner=1)\n",
    "WC = pieces_mod.Castle(color='W', owner=1)\n",
    "\n",
    "pieces_m = [\n",
    "    [None, None, None, None, None, None, WC, None],\n",
    "    [None, None, None, None, None, None, None, None],\n",
    "    [None, None, None, None, None, None, None, None],\n",
    "    [None, None, None, None, None, None, BK, None],\n",
    "    [None, WK, None, None, None, None, None, None],\n",
    "    [None, None, None, None, None, None, None, None],\n",
    "    [None, None, None, None, None, None, None, None],\n",
    "    [None, None, None, None, None, WC, None, None]\n",
    "]\n",
    "\n",
    "board_state = Board_State(\n",
    "    next_to_go=-1,\n",
    "    pieces_matrix=pieces_m\n",
    ")"
   ]
  },
  {
   "cell_type": "code",
   "execution_count": 14,
   "metadata": {},
   "outputs": [
    {
     "name": "stdout",
     "output_type": "stream",
     "text": [
      "BK: Vector(i=6, j=4) --> Vector(i=7, j=5)\n",
      "BK: Vector(i=6, j=4) --> Vector(i=7, j=3)\n",
      "BK: Vector(i=6, j=4) --> Vector(i=7, j=4)\n",
      "True\n"
     ]
    }
   ],
   "source": [
    "for v_from, v_move in board_state.generate_legal_moves():\n",
    "    print(f\"{board_state.get_piece_at_vector(v_from).symbol}: {repr(v_from)} --> {repr(v_from + v_move)}\")\n",
    "print(board_state.player_in_check())\n"
   ]
  },
  {
   "cell_type": "code",
   "execution_count": 15,
   "metadata": {},
   "outputs": [
    {
     "data": {
      "text/plain": [
       "((None, None, None, None, None, None, <pieces.Castle at 0x26647ba6cb0>, None),\n",
       " (None, None, None, None, None, None, None, None),\n",
       " (None, None, None, None, None, None, None, None),\n",
       " (None, None, None, None, None, None, None, <pieces.King at 0x26647ba4490>),\n",
       " (None, <pieces.King at 0x26647ba4280>, None, None, None, None, None, None),\n",
       " (None, None, None, None, None, None, None, None),\n",
       " (None, None, None, None, None, None, None, None),\n",
       " (None, None, None, None, None, None, None, <pieces.Castle at 0x26647ba6cb0>))"
      ]
     },
     "execution_count": 15,
     "metadata": {},
     "output_type": "execute_result"
    }
   ],
   "source": [
    "board_state = board_state.\\\n",
    "    make_move(Vector(6, 4), Vector(1, 0)).\\\n",
    "    make_move(Vector(5, 0), Vector(2, 0))\n",
    "\n",
    "board_state.pieces_matrix"
   ]
  },
  {
   "cell_type": "code",
   "execution_count": 21,
   "metadata": {},
   "outputs": [
    {
     "data": {
      "text/plain": [
       "[[None, None, None, None, None, None, <pieces.Castle at 0x26647ba6cb0>, None],\n",
       " [None, None, None, None, None, None, None, None],\n",
       " [None, None, None, None, None, None, None, None],\n",
       " [None, None, None, None, None, None, None, <pieces.King at 0x26647ba4490>],\n",
       " [None, <pieces.King at 0x26647ba4280>, None, None, None, None, None, None],\n",
       " [None, None, None, None, None, None, None, None],\n",
       " [None, None, None, None, None, None, None, None],\n",
       " [None, None, None, None, None, None, None, <pieces.Castle at 0x26647ba6cb0>]]"
      ]
     },
     "execution_count": 21,
     "metadata": {},
     "output_type": "execute_result"
    }
   ],
   "source": [
    "list(map(list, board_state.pieces_matrix))"
   ]
  },
  {
   "cell_type": "code",
   "execution_count": 16,
   "metadata": {},
   "outputs": [
    {
     "data": {
      "text/plain": [
       "-1"
      ]
     },
     "execution_count": 16,
     "metadata": {},
     "output_type": "execute_result"
    }
   ],
   "source": [
    "board_state.next_to_go"
   ]
  },
  {
   "cell_type": "code",
   "execution_count": 17,
   "metadata": {},
   "outputs": [
    {
     "data": {
      "text/plain": [
       "0"
      ]
     },
     "execution_count": 17,
     "metadata": {},
     "output_type": "execute_result"
    }
   ],
   "source": [
    "len(list(board_state.generate_legal_moves()))"
   ]
  },
  {
   "cell_type": "code",
   "execution_count": 18,
   "metadata": {},
   "outputs": [
    {
     "data": {
      "text/plain": [
       "(True, -1)"
      ]
     },
     "execution_count": 18,
     "metadata": {},
     "output_type": "execute_result"
    }
   ],
   "source": [
    "board_state.is_game_over_for_next_to_go()"
   ]
  },
  {
   "cell_type": "code",
   "execution_count": 19,
   "metadata": {},
   "outputs": [
    {
     "data": {
      "text/plain": [
       "-1000000"
      ]
     },
     "execution_count": 19,
     "metadata": {},
     "output_type": "execute_result"
    }
   ],
   "source": [
    "board_state.static_evaluation()"
   ]
  }
 ],
 "metadata": {
  "kernelspec": {
   "display_name": "Python 3.10.0 64-bit",
   "language": "python",
   "name": "python3"
  },
  "language_info": {
   "codemirror_mode": {
    "name": "ipython",
    "version": 3
   },
   "file_extension": ".py",
   "mimetype": "text/x-python",
   "name": "python",
   "nbconvert_exporter": "python",
   "pygments_lexer": "ipython3",
   "version": "3.10.0"
  },
  "orig_nbformat": 4,
  "vscode": {
   "interpreter": {
    "hash": "1215b1aecdd8c83375b241d0c862057777d1b41ed412da38189195d086960e71"
   }
  }
 },
 "nbformat": 4,
 "nbformat_minor": 2
}
