{
 "cells": [
  {
   "cell_type": "code",
   "execution_count": 2,
   "metadata": {},
   "outputs": [
    {
     "data": {
      "text/plain": [
       "[[None, None, None, None, None, None, None, None],\n",
       " ['PP', 'PP', 'PP', 'PP', 'PP', 'PP', 'PP', 'PP'],\n",
       " [None, None, None, None, None, None, None, None],\n",
       " [None, None, None, None, None, None, None, None],\n",
       " [None, None, None, None, None, None, None, None],\n",
       " [None, None, None, None, None, None, None, None],\n",
       " ['AP', 'AP', 'AP', 'AP', 'AP', 'AP', 'AP', 'AP'],\n",
       " [None, None, None, None, None, None, None, None]]"
      ]
     },
     "execution_count": 2,
     "metadata": {},
     "output_type": "execute_result"
    }
   ],
   "source": [
    "profile = [None, 'PP', None, None, None, None, 'AP', None]\n",
    "[8*[e] for e in profile]\n"
   ]
  }
 ],
 "metadata": {
  "kernelspec": {
   "display_name": "Python 3.10.0 64-bit",
   "language": "python",
   "name": "python3"
  },
  "language_info": {
   "codemirror_mode": {
    "name": "ipython",
    "version": 3
   },
   "file_extension": ".py",
   "mimetype": "text/x-python",
   "name": "python",
   "nbconvert_exporter": "python",
   "pygments_lexer": "ipython3",
   "version": "3.10.0"
  },
  "orig_nbformat": 4,
  "vscode": {
   "interpreter": {
    "hash": "1215b1aecdd8c83375b241d0c862057777d1b41ed412da38189195d086960e71"
   }
  }
 },
 "nbformat": 4,
 "nbformat_minor": 2
}
