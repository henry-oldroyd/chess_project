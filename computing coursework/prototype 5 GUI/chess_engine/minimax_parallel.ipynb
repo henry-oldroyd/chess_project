{
 "cells": [
  {
   "cell_type": "code",
   "execution_count": 1,
   "metadata": {},
   "outputs": [],
   "source": [
    "from random import choice as random_choice\n",
    "import os"
   ]
  },
  {
   "cell_type": "code",
   "execution_count": 2,
   "metadata": {},
   "outputs": [],
   "source": [
    "DB_path = os.path.join(os.getcwd(), 'database.db')\n"
   ]
  },
  {
   "cell_type": "code",
   "execution_count": 3,
   "metadata": {},
   "outputs": [],
   "source": [
    "if os.path.exists(DB_path):\n",
    "    os.remove(DB_path)"
   ]
  },
  {
   "cell_type": "code",
   "execution_count": 4,
   "metadata": {},
   "outputs": [],
   "source": [
    "from minimax_parallel import *"
   ]
  },
  {
   "cell_type": "code",
   "execution_count": 5,
   "metadata": {},
   "outputs": [
    {
     "ename": "TypeError",
     "evalue": "__init__() missing 4 required positional arguments: 'board_state_hash', 'depth', 'move', and 'score'",
     "output_type": "error",
     "traceback": [
      "\u001b[1;31m---------------------------------------------------------------------------\u001b[0m",
      "\u001b[1;31mTypeError\u001b[0m                                 Traceback (most recent call last)",
      "\u001b[1;32m~\\AppData\\Local\\Temp/ipykernel_9428/1626962324.py\u001b[0m in \u001b[0;36m<module>\u001b[1;34m\u001b[0m\n\u001b[1;32m----> 1\u001b[1;33m \u001b[0mcache\u001b[0m \u001b[1;33m=\u001b[0m \u001b[0mMinimax_Cache_Item\u001b[0m\u001b[1;33m(\u001b[0m\u001b[1;33m)\u001b[0m\u001b[1;33m\u001b[0m\u001b[1;33m\u001b[0m\u001b[0m\n\u001b[0m",
      "\u001b[1;31mTypeError\u001b[0m: __init__() missing 4 required positional arguments: 'board_state_hash', 'depth', 'move', and 'score'"
     ]
    }
   ],
   "source": [
    "cache = Minimax_Cache_Item()\n"
   ]
  },
  {
   "cell_type": "code",
   "execution_count": null,
   "metadata": {},
   "outputs": [],
   "source": [
    "with cache:\n",
    "    print(cache.search_cache(Board_State(), depth=0))"
   ]
  },
  {
   "cell_type": "code",
   "execution_count": null,
   "metadata": {},
   "outputs": [],
   "source": [
    "with cache:\n",
    "    print(cache.search_cache(Board_State(), depth=2))\n"
   ]
  },
  {
   "cell_type": "code",
   "execution_count": null,
   "metadata": {},
   "outputs": [],
   "source": [
    "vector_schema = Vector_Schema()"
   ]
  },
  {
   "cell_type": "code",
   "execution_count": null,
   "metadata": {},
   "outputs": [],
   "source": [
    "vector_schema.load(\n",
    "    Vector(0, 0)\n",
    ")"
   ]
  },
  {
   "cell_type": "code",
   "execution_count": null,
   "metadata": {},
   "outputs": [],
   "source": [
    "vector_schema.dump(\n",
    "    {'i': 0, 'j': 0}\n",
    ")"
   ]
  },
  {
   "cell_type": "code",
   "execution_count": null,
   "metadata": {},
   "outputs": [],
   "source": [
    "move_schema = Move_Schema()"
   ]
  },
  {
   "cell_type": "code",
   "execution_count": null,
   "metadata": {},
   "outputs": [],
   "source": [
    "move_schema.load(\n",
    "    data=(\n",
    "        Vector(0, 1),\n",
    "        Vector(0, 2)\n",
    "    )\n",
    ")"
   ]
  },
  {
   "cell_type": "code",
   "execution_count": null,
   "metadata": {},
   "outputs": [],
   "source": [
    "move_schema.dump(\n",
    "    {'movement_vector': {'i': 0, 'j': 2}, 'from_vector': {'i': 0, 'j': 1}}\n",
    ")"
   ]
  },
  {
   "cell_type": "code",
   "execution_count": null,
   "metadata": {},
   "outputs": [],
   "source": [
    "minimax_cache_item_schema.load(\n",
    "    dict(\n",
    "        board_state_hash= str(hash(Board_State())),\n",
    "        depth = 2,\n",
    "        score=0,\n",
    "        move = (\n",
    "            Vector(0,1),\n",
    "            Vector(0,2),\n",
    "        )\n",
    "    )\n",
    ")"
   ]
  },
  {
   "cell_type": "code",
   "execution_count": null,
   "metadata": {},
   "outputs": [],
   "source": [
    "minimax_cache_item_schema.dump(\n",
    "    Minimax_Cache_Item(board_state_hash='1505982888077982861', depth=2, move='0102', score=0)\n",
    ")"
   ]
  },
  {
   "cell_type": "code",
   "execution_count": null,
   "metadata": {},
   "outputs": [],
   "source": [
    "with cache:\n",
    "    cache.add_to_cache(\n",
    "        board_state = Board_State(),\n",
    "        depth=2,\n",
    "        score=0,\n",
    "        move=(\n",
    "            Vector(0, 1),\n",
    "            Vector(0, 2),\n",
    "        )\n",
    "    )\n"
   ]
  },
  {
   "cell_type": "code",
   "execution_count": null,
   "metadata": {},
   "outputs": [],
   "source": [
    "with cache:\n",
    "    print(\n",
    "        cache.search_cache(\n",
    "            board_state=Board_State(),\n",
    "            depth=2\n",
    "        )\n",
    "    )\n"
   ]
  },
  {
   "cell_type": "code",
   "execution_count": null,
   "metadata": {},
   "outputs": [],
   "source": [
    "with cache:\n",
    "    print(\n",
    "        cache.search_cache(\n",
    "            board_state=Board_State(),\n",
    "            depth=1\n",
    "        )\n",
    "    )\n"
   ]
  },
  {
   "cell_type": "code",
   "execution_count": null,
   "metadata": {},
   "outputs": [],
   "source": [
    "def random_board_state(moves: int, seed_board_state=None):\n",
    "    if seed_board_state is None:\n",
    "        seed_board_state = Board_State()\n",
    "\n",
    "    board_state = seed_board_state\n",
    "\n",
    "    for _ in range(moves):\n",
    "        random_move = random_choice(list(board_state.generate_legal_moves()))\n",
    "        board_state = board_state.make_move(*random_move)\n",
    "\n",
    "    return board_state"
   ]
  },
  {
   "cell_type": "code",
   "execution_count": null,
   "metadata": {},
   "outputs": [],
   "source": [
    "some_board_state = random_board_state(4)\n",
    "\n",
    "with cache:\n",
    "    cache.add_to_cache(\n",
    "        board_state=some_board_state,\n",
    "        depth=3,\n",
    "        score=10,\n",
    "        move=(\n",
    "            Vector(4, 1),\n",
    "            Vector(4, 2),\n",
    "        )\n",
    "    )\n",
    "    print(\n",
    "        cache.search_cache(\n",
    "            board_state=some_board_state,\n",
    "            depth=3\n",
    "        )\n",
    "    )\n"
   ]
  },
  {
   "cell_type": "code",
   "execution_count": null,
   "metadata": {},
   "outputs": [],
   "source": [
    "some_board_state = random_board_state(4)\n",
    "\n",
    "with cache:\n",
    "    cache.add_to_cache(\n",
    "        board_state=some_board_state,\n",
    "        depth=0,\n",
    "        score=10,\n",
    "        move=(\n",
    "            Vector(4, 1),\n",
    "            Vector(4, 2),\n",
    "        )\n",
    "    )\n",
    "    print(\n",
    "        cache.search_cache(\n",
    "            board_state=some_board_state,\n",
    "            depth=0\n",
    "        )\n",
    "    )\n"
   ]
  },
  {
   "cell_type": "code",
   "execution_count": null,
   "metadata": {},
   "outputs": [],
   "source": [
    "engine.dispose()\n",
    "if os.path.exists(DB_path):\n",
    "    os.remove(DB_path)\n"
   ]
  }
 ],
 "metadata": {
  "kernelspec": {
   "display_name": "Python 3",
   "language": "python",
   "name": "python3"
  },
  "language_info": {
   "codemirror_mode": {
    "name": "ipython",
    "version": 3
   },
   "file_extension": ".py",
   "mimetype": "text/x-python",
   "name": "python",
   "nbconvert_exporter": "python",
   "pygments_lexer": "ipython3",
   "version": "3.10.0 (tags/v3.10.0:b494f59, Oct  4 2021, 19:00:18) [MSC v.1929 64 bit (AMD64)]"
  },
  "orig_nbformat": 4,
  "vscode": {
   "interpreter": {
    "hash": "1215b1aecdd8c83375b241d0c862057777d1b41ed412da38189195d086960e71"
   }
  }
 },
 "nbformat": 4,
 "nbformat_minor": 2
}
