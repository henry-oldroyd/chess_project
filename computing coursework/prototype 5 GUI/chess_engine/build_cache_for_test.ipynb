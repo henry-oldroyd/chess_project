{
 "cells": [
  {
   "cell_type": "code",
   "execution_count": null,
   "metadata": {},
   "outputs": [],
   "source": [
    "from random import randint, choice as random_choice\n",
    "import multiprocessing\n",
    "\n",
    "from minimax import Move_Engine, JSON_Cache_Manual_Save\n",
    "from board_state import Board_State"
   ]
  },
  {
   "cell_type": "code",
   "execution_count": null,
   "metadata": {},
   "outputs": [],
   "source": [
    "def random_board_state(moves: int, seed_board_state=None):\n",
    "    if seed_board_state is None:\n",
    "        seed_board_state = Board_State()\n",
    "\n",
    "    board_state = seed_board_state\n",
    "\n",
    "    for _ in range(moves):\n",
    "        random_move = random_choice(list(board_state.generate_legal_moves()))\n",
    "        board_state = board_state.make_move(*random_move)\n",
    "\n",
    "    return board_state\n"
   ]
  },
  {
   "cell_type": "code",
   "execution_count": null,
   "metadata": {},
   "outputs": [],
   "source": [
    "def multi_processor(job, argument_iterable):\n",
    "    cores = multiprocessing.cpu_count()\n",
    "    with multiprocessing.Pool(cores) as pool:\n",
    "        # yield from pool.map(\n",
    "        return pool.map(\n",
    "            func=job,\n",
    "            iterable=argument_iterable\n",
    "        )\n"
   ]
  },
  {
   "cell_type": "code",
   "execution_count": null,
   "metadata": {},
   "outputs": [],
   "source": [
    "cache_manager = JSON_Cache_Manual_Save()\n",
    "\n",
    "move_engine = Move_Engine(\n",
    "    cache_allowed=True, \n",
    "    cache_manager=cache_manager,\n",
    "    variable_depth=False\n",
    ")"
   ]
  },
  {
   "cell_type": "code",
   "execution_count": null,
   "metadata": {},
   "outputs": [],
   "source": [
    "def job(job_data):\n",
    "    depth, moves = job_data[\"depth\"], job_data[\"moves\"]\n",
    "    move_engine(\n",
    "        board_state = random_board_state(moves),\n",
    "        depth = 3\n",
    "    )"
   ]
  },
  {
   "cell_type": "code",
   "execution_count": null,
   "metadata": {},
   "outputs": [],
   "source": [
    "def generate_argument_iterable(batch_size: int):\n",
    "    for _ in range(batch_size):\n",
    "        yield {\n",
    "            \"depth\": 3,\n",
    "            \"moves\": randint(1, 10)\n",
    "        }"
   ]
  },
  {
   "cell_type": "code",
   "execution_count": null,
   "metadata": {},
   "outputs": [],
   "source": [
    "batch_size = 40\n",
    "while True:\n",
    "    argument_iterable = generate_argument_iterable(batch_size)\n",
    "    multi_processor(\n",
    "        job=job,\n",
    "        argument_iterable=argument_iterable\n",
    "    )\n",
    "    cache_manager.save()"
   ]
  }
 ],
 "metadata": {
  "kernelspec": {
   "display_name": "Python 3",
   "language": "python",
   "name": "python3"
  },
  "language_info": {
   "name": "python",
   "version": "3.10.0 (tags/v3.10.0:b494f59, Oct  4 2021, 19:00:18) [MSC v.1929 64 bit (AMD64)]"
  },
  "orig_nbformat": 4,
  "vscode": {
   "interpreter": {
    "hash": "1215b1aecdd8c83375b241d0c862057777d1b41ed412da38189195d086960e71"
   }
  }
 },
 "nbformat": 4,
 "nbformat_minor": 2
}
