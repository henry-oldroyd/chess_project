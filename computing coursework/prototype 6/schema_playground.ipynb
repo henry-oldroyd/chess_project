{
 "cells": [
  {
   "cell_type": "code",
   "execution_count": 1,
   "metadata": {},
   "outputs": [],
   "source": [
    "from schemas import *\n",
    "from chess_functions import Board_State, Pawn"
   ]
  },
  {
   "cell_type": "code",
   "execution_count": 2,
   "metadata": {},
   "outputs": [
    {
     "data": {
      "text/plain": [
       "[[[0, 1], [0, 1]],\n",
       " [[0, 1], [0, 2]],\n",
       " [[1, 0], [-1, 2]],\n",
       " [[1, 0], [1, 2]],\n",
       " [[1, 1], [0, 1]],\n",
       " [[1, 1], [0, 2]],\n",
       " [[2, 1], [0, 1]],\n",
       " [[2, 1], [0, 2]],\n",
       " [[3, 1], [0, 1]],\n",
       " [[3, 1], [0, 2]],\n",
       " [[4, 1], [0, 1]],\n",
       " [[4, 1], [0, 2]],\n",
       " [[5, 1], [0, 1]],\n",
       " [[5, 1], [0, 2]],\n",
       " [[6, 0], [-1, 2]],\n",
       " [[6, 0], [1, 2]],\n",
       " [[6, 1], [0, 1]],\n",
       " [[6, 1], [0, 2]],\n",
       " [[7, 1], [0, 1]],\n",
       " [[7, 1], [0, 2]]]"
      ]
     },
     "execution_count": 2,
     "metadata": {},
     "output_type": "execute_result"
    }
   ],
   "source": [
    "serialize_legal_moves(list(Board_State().generate_legal_moves()))\n"
   ]
  },
  {
   "cell_type": "code",
   "execution_count": 3,
   "metadata": {},
   "outputs": [
    {
     "data": {
      "text/plain": [
       "['W', '♟︎']"
      ]
     },
     "execution_count": 3,
     "metadata": {},
     "output_type": "execute_result"
    }
   ],
   "source": [
    "piece = Pawn(\"W\")\n",
    "piece_schema.dump(piece)"
   ]
  },
  {
   "cell_type": "code",
   "execution_count": 4,
   "metadata": {},
   "outputs": [
    {
     "data": {
      "text/plain": [
       "[[['B', '♜'],\n",
       "  ['B', '♞'],\n",
       "  ['B', '♝'],\n",
       "  ['B', '♛'],\n",
       "  ['B', '♚'],\n",
       "  ['B', '♝'],\n",
       "  ['B', '♞'],\n",
       "  ['B', '♜']],\n",
       " [['B', '♟︎'],\n",
       "  ['B', '♟︎'],\n",
       "  ['B', '♟︎'],\n",
       "  ['B', '♟︎'],\n",
       "  ['B', '♟︎'],\n",
       "  ['B', '♟︎'],\n",
       "  ['B', '♟︎'],\n",
       "  ['B', '♟︎']],\n",
       " [[None, None],\n",
       "  [None, None],\n",
       "  [None, None],\n",
       "  [None, None],\n",
       "  [None, None],\n",
       "  [None, None],\n",
       "  [None, None],\n",
       "  [None, None]],\n",
       " [[None, None],\n",
       "  [None, None],\n",
       "  [None, None],\n",
       "  [None, None],\n",
       "  [None, None],\n",
       "  [None, None],\n",
       "  [None, None],\n",
       "  [None, None]],\n",
       " [[None, None],\n",
       "  [None, None],\n",
       "  [None, None],\n",
       "  [None, None],\n",
       "  [None, None],\n",
       "  [None, None],\n",
       "  [None, None],\n",
       "  [None, None]],\n",
       " [[None, None],\n",
       "  [None, None],\n",
       "  [None, None],\n",
       "  [None, None],\n",
       "  [None, None],\n",
       "  [None, None],\n",
       "  [None, None],\n",
       "  [None, None]],\n",
       " [['W', '♟︎'],\n",
       "  ['W', '♟︎'],\n",
       "  ['W', '♟︎'],\n",
       "  ['W', '♟︎'],\n",
       "  ['W', '♟︎'],\n",
       "  ['W', '♟︎'],\n",
       "  ['W', '♟︎'],\n",
       "  ['W', '♟︎']],\n",
       " [['W', '♜'],\n",
       "  ['W', '♞'],\n",
       "  ['W', '♝'],\n",
       "  ['W', '♛'],\n",
       "  ['W', '♚'],\n",
       "  ['W', '♝'],\n",
       "  ['W', '♞'],\n",
       "  ['W', '♜']]]"
      ]
     },
     "execution_count": 4,
     "metadata": {},
     "output_type": "execute_result"
    }
   ],
   "source": [
    "pieces_matrix = Board_State().pieces_matrix\n",
    "serialize_pieces_matrix(pieces_matrix)"
   ]
  },
  {
   "cell_type": "code",
   "execution_count": 5,
   "metadata": {},
   "outputs": [
    {
     "data": {
      "text/plain": [
       "Pawn(color='W')"
      ]
     },
     "execution_count": 5,
     "metadata": {},
     "output_type": "execute_result"
    }
   ],
   "source": [
    "deserialize_piece(['W', '♟︎'])"
   ]
  },
  {
   "cell_type": "code",
   "execution_count": 6,
   "metadata": {},
   "outputs": [
    {
     "data": {
      "text/plain": [
       "[None, None]"
      ]
     },
     "execution_count": 6,
     "metadata": {},
     "output_type": "execute_result"
    }
   ],
   "source": [
    "serialize_piece(None)"
   ]
  },
  {
   "cell_type": "code",
   "execution_count": 8,
   "metadata": {},
   "outputs": [
    {
     "name": "stdout",
     "output_type": "stream",
     "text": [
      "None\n"
     ]
    }
   ],
   "source": [
    "print(deserialize_piece([None, None]))"
   ]
  },
  {
   "cell_type": "code",
   "execution_count": 9,
   "metadata": {},
   "outputs": [
    {
     "data": {
      "text/plain": [
       "(False, None)"
      ]
     },
     "execution_count": 9,
     "metadata": {},
     "output_type": "execute_result"
    }
   ],
   "source": [
    "board_state = Board_State()\n",
    "board_state.is_game_over_for_next_to_go()"
   ]
  }
 ],
 "metadata": {
  "kernelspec": {
   "display_name": "Python 3",
   "language": "python",
   "name": "python3"
  },
  "language_info": {
   "codemirror_mode": {
    "name": "ipython",
    "version": 3
   },
   "file_extension": ".py",
   "mimetype": "text/x-python",
   "name": "python",
   "nbconvert_exporter": "python",
   "pygments_lexer": "ipython3",
   "version": "3.10.0"
  },
  "orig_nbformat": 4
 },
 "nbformat": 4,
 "nbformat_minor": 2
}
