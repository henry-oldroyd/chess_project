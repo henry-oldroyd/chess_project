{
 "cells": [
  {
   "cell_type": "code",
   "execution_count": 1,
   "metadata": {},
   "outputs": [],
   "source": [
    "from dataclasses import dataclass\n",
    "from copy import deepcopy\n"
   ]
  },
  {
   "cell_type": "code",
   "execution_count": 2,
   "metadata": {},
   "outputs": [],
   "source": [
    "\n",
    "@dataclass(frozen=True)\n",
    "class Game_State:\n",
    "    board_positions: list[list]\n",
    "    moves_left: int\n",
    "    to_go_next: str\n",
    "    \n",
    "    def print_board(self):\n",
    "        for row in self.board_positions:\n",
    "            print(\"|\".join([\".\" if e == \"\" else e for e in row]))\n",
    "    \n",
    "    def is_game_over(self):\n",
    "        \"\"\"Returns False, none for still going and True, 1/0/-1 for over.\n",
    "        1 is user wins, 0 is draw, -1 is user looses\"\"\"\n",
    "        def gen_triplets():\n",
    "            # yield rows\n",
    "            yield from self.board_positions\n",
    "            # yield columns\n",
    "            for col in range(3):\n",
    "                yield [self.board_positions[row][col] for row in range(3)]\n",
    "            # yield diagonals\n",
    "            yield [\n",
    "                self.board_positions[0][0],\n",
    "                self.board_positions[1][1],\n",
    "                self.board_positions[2][2],\n",
    "            ]\n",
    "            yield [\n",
    "                self.board_positions[2][0],\n",
    "                self.board_positions[1][1],\n",
    "                self.board_positions[0][2],\n",
    "            ]\n",
    "        if [\"X\"]*3 in gen_triplets():\n",
    "            return True, 1\n",
    "        if [\"O\"]*3 in gen_triplets():\n",
    "            return True, -1\n",
    "        # note so long as user takes all odd turns 9,7,...3,1 they will have last go so redundant\n",
    "        if self.moves_left == 0:\n",
    "            return True, 0\n",
    "        return False, None\n",
    "        \n",
    "\n",
    "    def gen_child_game_states(self):\n",
    "        \"precondition of game not being over\"\n",
    "        for i, row in enumerate(self.board_positions):\n",
    "            for j, square in enumerate(row):\n",
    "                if square == \"\":\n",
    "                    new_board_positions = deepcopy(self.board_positions)\n",
    "                    new_board_positions[i][j] = self.to_go_next\n",
    "                    \n",
    "                    yield Game_State(\n",
    "                        board_positions=new_board_positions,\n",
    "                        moves_left=self.moves_left-1,\n",
    "                        to_go_next=\"X\" if self.to_go_next == \"O\" else \"O\"\n",
    "                    )\n"
   ]
  },
  {
   "cell_type": "code",
   "execution_count": 28,
   "metadata": {},
   "outputs": [],
   "source": [
    "# original function\n",
    "def british_museum_minimax(game_state: Game_State, maximizing_player: bool, alpha, beta):\n",
    "    # computer want 0 or -1 so minimizer\n",
    "    over, outcome = game_state.is_game_over()\n",
    "    if over:\n",
    "        return outcome, game_state\n",
    "\n",
    "    if maximizing_player:\n",
    "        max_evaluation = -100\n",
    "        for child in game_state.gen_child_game_states():\n",
    "            evaluation = british_museum_minimax(\n",
    "                game_state=child,\n",
    "                maximizing_player=not maximizing_player,\n",
    "                alpha=alpha,\n",
    "                beta=beta,\n",
    "            )[0]\n",
    "            if evaluation > max_evaluation:\n",
    "                max_evaluation = evaluation\n",
    "                best_child = child\n",
    "            # max_evaluation = max(max_evaluation, evaluation)\n",
    "            alpha = max(alpha, evaluation)\n",
    "            if beta <= alpha:\n",
    "                break\n",
    "        return max_evaluation, best_child\n",
    "    else:\n",
    "        min_evaluation = 100\n",
    "        for child in game_state.gen_child_game_states():\n",
    "            evaluation = british_museum_minimax(\n",
    "                game_state=child,\n",
    "                maximizing_player=not maximizing_player,\n",
    "                alpha=alpha,\n",
    "                beta=beta,\n",
    "            )[0]\n",
    "            if evaluation < min_evaluation:\n",
    "                min_evaluation = evaluation\n",
    "                best_child = child\n",
    "            # min_evaluation = min(min_evaluation, evaluation)\n",
    "            beta = min(alpha, evaluation)\n",
    "            if beta <= alpha:\n",
    "                break\n",
    "        return min_evaluation, best_child\n"
   ]
  },
  {
   "cell_type": "code",
   "execution_count": 29,
   "metadata": {},
   "outputs": [],
   "source": [
    "score, best_child = british_museum_minimax(\n",
    "    game_state=Game_State(\n",
    "        moves_left=6,\n",
    "        to_go_next=\"O\",\n",
    "        board_positions=[\n",
    "            [\"O\", \"X\", \"\"],\n",
    "            [\"\", \"X\", \"\"],\n",
    "            [\"\", \"\", \"\"],\n",
    "        ]\n",
    "    ),\n",
    "    maximizing_player=False,\n",
    "    alpha=-100,\n",
    "    beta=+100\n",
    ")"
   ]
  },
  {
   "cell_type": "code",
   "execution_count": 30,
   "metadata": {},
   "outputs": [
    {
     "data": {
      "text/plain": [
       "1"
      ]
     },
     "execution_count": 30,
     "metadata": {},
     "output_type": "execute_result"
    }
   ],
   "source": [
    "score"
   ]
  },
  {
   "cell_type": "code",
   "execution_count": 31,
   "metadata": {},
   "outputs": [
    {
     "name": "stdout",
     "output_type": "stream",
     "text": [
      "O|X|O\n",
      ".|X|.\n",
      ".|.|.\n"
     ]
    }
   ],
   "source": [
    "best_child.print_board()"
   ]
  },
  {
   "cell_type": "markdown",
   "metadata": {},
   "source": [
    "# This shows that the current minimax algorithm is flawed as it thinks that the best it can possible do it a loss and it has picked a move that is a loss if the user acts optimally"
   ]
  },
  {
   "cell_type": "code",
   "execution_count": 32,
   "metadata": {},
   "outputs": [],
   "source": [
    "score, best_child = british_museum_minimax(\n",
    "    game_state=Game_State(\n",
    "        moves_left=2,\n",
    "        to_go_next=\"O\",\n",
    "        board_positions=[\n",
    "            [\"O\", \"X\", \"X\"],\n",
    "            [\"O\", \"X\", \"O\"],\n",
    "            [\"\", \"\", \"X\"],\n",
    "        ]\n",
    "    ),\n",
    "    maximizing_player=False,\n",
    "    alpha=-100,\n",
    "    beta=+100\n",
    ")\n"
   ]
  },
  {
   "cell_type": "code",
   "execution_count": 33,
   "metadata": {},
   "outputs": [
    {
     "data": {
      "text/plain": [
       "-1"
      ]
     },
     "execution_count": 33,
     "metadata": {},
     "output_type": "execute_result"
    }
   ],
   "source": [
    "score"
   ]
  },
  {
   "cell_type": "code",
   "execution_count": 34,
   "metadata": {},
   "outputs": [
    {
     "name": "stdout",
     "output_type": "stream",
     "text": [
      "O|X|X\n",
      "O|X|O\n",
      "O|.|X\n"
     ]
    }
   ],
   "source": [
    "best_child.print_board()"
   ]
  },
  {
   "cell_type": "markdown",
   "metadata": {},
   "source": [
    "Here we see that it is able to recognize that it can win which is better than the only other option which is a draw"
   ]
  },
  {
   "cell_type": "markdown",
   "metadata": {},
   "source": [
    "Perhaps the issue is with the game over function incorrectly determining who wins"
   ]
  },
  {
   "cell_type": "code",
   "execution_count": 35,
   "metadata": {},
   "outputs": [
    {
     "data": {
      "text/plain": [
       "(True, 1)"
      ]
     },
     "execution_count": 35,
     "metadata": {},
     "output_type": "execute_result"
    }
   ],
   "source": [
    "Game_State(\n",
    "    moves_left=0,\n",
    "    to_go_next=\"O\",\n",
    "    board_positions=[\n",
    "        [\"O\", \"X\", \"X\"],\n",
    "        [\"O\", \"X\", \"O\"],\n",
    "        [\"X\", \"O\", \"X\"],\n",
    "    ]\n",
    ").is_game_over()\n"
   ]
  },
  {
   "cell_type": "markdown",
   "metadata": {},
   "source": [
    "Thats correct"
   ]
  },
  {
   "cell_type": "code",
   "execution_count": 36,
   "metadata": {},
   "outputs": [
    {
     "data": {
      "text/plain": [
       "(True, 0)"
      ]
     },
     "execution_count": 36,
     "metadata": {},
     "output_type": "execute_result"
    }
   ],
   "source": [
    "Game_State(\n",
    "    moves_left=0,\n",
    "    to_go_next=\"O\",\n",
    "    board_positions=[\n",
    "        [\"O\", \"X\", \"X\"],\n",
    "        [\"X\", \"O\", \"O\"],\n",
    "        [\"X\", \"O\", \"X\"],\n",
    "    ]\n",
    ").is_game_over()\n"
   ]
  },
  {
   "cell_type": "markdown",
   "metadata": {},
   "source": [
    "thats also correct"
   ]
  },
  {
   "cell_type": "code",
   "execution_count": 37,
   "metadata": {},
   "outputs": [
    {
     "data": {
      "text/plain": [
       "(True, -1)"
      ]
     },
     "execution_count": 37,
     "metadata": {},
     "output_type": "execute_result"
    }
   ],
   "source": [
    "Game_State(\n",
    "    moves_left=0,\n",
    "    to_go_next=\"O\",\n",
    "    board_positions=[\n",
    "        [\"X\", \"O\", \"O\"],\n",
    "        [\"X\", \"O\", \"X\"],\n",
    "        [\"O\", \"X\", \"O\"],\n",
    "    ]\n",
    ").is_game_over()\n"
   ]
  },
  {
   "cell_type": "markdown",
   "metadata": {},
   "source": [
    "this is also correct"
   ]
  },
  {
   "cell_type": "markdown",
   "metadata": {},
   "source": [
    "I will now try to make a tree to better visualize what is happening"
   ]
  },
  {
   "cell_type": "code",
   "execution_count": 38,
   "metadata": {},
   "outputs": [],
   "source": [
    "@dataclass\n",
    "class Tree:\n",
    "    root_node_text: str\n",
    "    sub_trees: list\n",
    "    \n",
    "    def print_tree(self, indent=0):\n",
    "        # print(f\"printing tree {self.root_node_text} with indent {indent}\")\n",
    "        print(\"|\" + \"---\" *indent +f\"-->{self.root_node_text}\")\n",
    "        for sub_tree in self.sub_trees:\n",
    "            sub_tree.print_tree(indent=indent+1)"
   ]
  },
  {
   "cell_type": "code",
   "execution_count": 39,
   "metadata": {},
   "outputs": [
    {
     "name": "stdout",
     "output_type": "stream",
     "text": [
      "|-->A\n",
      "|----->B\n",
      "|-------->E\n",
      "|----->C\n",
      "|-------->D\n",
      "|----------->F\n",
      "|----------->G\n"
     ]
    }
   ],
   "source": [
    "Tree(\"A\",[\n",
    "    Tree(\"B\",[\n",
    "        Tree(\"E\", [])\n",
    "    ]),\n",
    "    Tree(\"C\",[\n",
    "        Tree(\"D\", [\n",
    "            Tree(\"F\", []),\n",
    "            Tree(\"G\", []),\n",
    "        ])\n",
    "    ]),\n",
    "]).print_tree()"
   ]
  },
  {
   "cell_type": "markdown",
   "metadata": {},
   "source": [
    "that isn't a great tree"
   ]
  },
  {
   "cell_type": "markdown",
   "metadata": {},
   "source": [
    "maybe I could just add a load of print statements "
   ]
  },
  {
   "cell_type": "code",
   "execution_count": 3,
   "metadata": {},
   "outputs": [],
   "source": [
    "def print_dec(func):\n",
    "    func_name = func.__name__\n",
    "    def wrapper(*args, **kwargs):\n",
    "        print(f\"started:  {func_name}(args={args}, kwargs={kwargs})\")\n",
    "        result = func(*args, **kwargs)\n",
    "        print(f\"finished:  {func_name}(args={args}, kwargs={kwargs})  return value:   {result}\")\n",
    "        return result\n",
    "    \n",
    "    wrapper.__name__ = func_name\n",
    "    return wrapper"
   ]
  },
  {
   "cell_type": "code",
   "execution_count": 4,
   "metadata": {},
   "outputs": [],
   "source": [
    "# new transparent version\n",
    "@print_dec\n",
    "def british_museum_minimax(game_state: Game_State, maximizing_player: bool, alpha, beta):\n",
    "    # computer want 0 or -1 so minimizer\n",
    "    over, outcome = game_state.is_game_over()\n",
    "    if over:\n",
    "        return outcome, game_state\n",
    "\n",
    "    if maximizing_player:\n",
    "        max_evaluation = -100\n",
    "        for child in game_state.gen_child_game_states():\n",
    "            evaluation = british_museum_minimax(\n",
    "                game_state=child,\n",
    "                maximizing_player=not maximizing_player,\n",
    "                alpha=alpha,\n",
    "                beta=beta,\n",
    "            )[0]\n",
    "            if evaluation > max_evaluation:\n",
    "                max_evaluation = evaluation\n",
    "                best_child = child\n",
    "            # max_evaluation = max(max_evaluation, evaluation)\n",
    "            alpha = max(alpha, evaluation)\n",
    "            if beta <= alpha:\n",
    "                break\n",
    "        return max_evaluation, best_child\n",
    "    else:\n",
    "        min_evaluation = 100\n",
    "        for child in game_state.gen_child_game_states():\n",
    "            evaluation = british_museum_minimax(\n",
    "                game_state=child,\n",
    "                maximizing_player=not maximizing_player,\n",
    "                alpha=alpha,\n",
    "                beta=beta,\n",
    "            )[0]\n",
    "            if evaluation < min_evaluation:\n",
    "                min_evaluation = evaluation\n",
    "                best_child = child\n",
    "            # min_evaluation = min(min_evaluation, evaluation)\n",
    "            beta = min(alpha, evaluation)\n",
    "            if beta <= alpha:\n",
    "                break\n",
    "        return min_evaluation, best_child\n"
   ]
  },
  {
   "cell_type": "code",
   "execution_count": 5,
   "metadata": {},
   "outputs": [
    {
     "name": "stdout",
     "output_type": "stream",
     "text": [
      "started:  british_museum_minimax(args=(), kwargs={'game_state': Game_State(board_positions=[['O', 'X', 'X'], ['O', 'X', 'O'], ['', '', 'X']], moves_left=2, to_go_next='O'), 'maximizing_player': False, 'alpha': -100, 'beta': 100})\n",
      "started:  british_museum_minimax(args=(), kwargs={'game_state': Game_State(board_positions=[['O', 'X', 'X'], ['O', 'X', 'O'], ['O', '', 'X']], moves_left=1, to_go_next='X'), 'maximizing_player': True, 'alpha': -100, 'beta': 100})\n",
      "finished:  british_museum_minimax(args=(), kwargs={'game_state': Game_State(board_positions=[['O', 'X', 'X'], ['O', 'X', 'O'], ['O', '', 'X']], moves_left=1, to_go_next='X'), 'maximizing_player': True, 'alpha': -100, 'beta': 100})  return value:   (-1, Game_State(board_positions=[['O', 'X', 'X'], ['O', 'X', 'O'], ['O', '', 'X']], moves_left=1, to_go_next='X'))\n",
      "finished:  british_museum_minimax(args=(), kwargs={'game_state': Game_State(board_positions=[['O', 'X', 'X'], ['O', 'X', 'O'], ['', '', 'X']], moves_left=2, to_go_next='O'), 'maximizing_player': False, 'alpha': -100, 'beta': 100})  return value:   (-1, Game_State(board_positions=[['O', 'X', 'X'], ['O', 'X', 'O'], ['O', '', 'X']], moves_left=1, to_go_next='X'))\n"
     ]
    }
   ],
   "source": [
    "score, best_child = british_museum_minimax(\n",
    "    game_state=Game_State(\n",
    "        moves_left=2,\n",
    "        to_go_next=\"O\",\n",
    "        board_positions=[\n",
    "            [\"O\", \"X\", \"X\"],\n",
    "            [\"O\", \"X\", \"O\"],\n",
    "            [\"\", \"\", \"X\"],\n",
    "        ]\n",
    "    ),\n",
    "    maximizing_player=False,\n",
    "    alpha=-100,\n",
    "    beta=+100\n",
    ")\n"
   ]
  },
  {
   "cell_type": "code",
   "execution_count": 43,
   "metadata": {},
   "outputs": [
    {
     "name": "stdout",
     "output_type": "stream",
     "text": [
      "O|X|X\n",
      "O|X|O\n",
      "O|.|X\n"
     ]
    }
   ],
   "source": [
    "best_child.print_board()"
   ]
  },
  {
   "cell_type": "code",
   "execution_count": 44,
   "metadata": {},
   "outputs": [
    {
     "data": {
      "text/plain": [
       "-1"
      ]
     },
     "execution_count": 44,
     "metadata": {},
     "output_type": "execute_result"
    }
   ],
   "source": [
    "score"
   ]
  },
  {
   "cell_type": "markdown",
   "metadata": {},
   "source": [
    "that makes sense, lets try to do this for one that doesn't work "
   ]
  },
  {
   "cell_type": "code",
   "execution_count": 45,
   "metadata": {},
   "outputs": [
    {
     "name": "stdout",
     "output_type": "stream",
     "text": [
      "started:  british_museum_minimax(args=(), kwargs={'game_state': Game_State(board_positions=[['O', 'X', ''], ['', 'X', ''], ['', '', '']], moves_left=6, to_go_next='O'), 'maximizing_player': False, 'alpha': -100, 'beta': 100})\n",
      "started:  british_museum_minimax(args=(), kwargs={'game_state': Game_State(board_positions=[['O', 'X', 'O'], ['', 'X', ''], ['', '', '']], moves_left=5, to_go_next='X'), 'maximizing_player': True, 'alpha': -100, 'beta': 100})\n",
      "started:  british_museum_minimax(args=(), kwargs={'game_state': Game_State(board_positions=[['O', 'X', 'O'], ['X', 'X', ''], ['', '', '']], moves_left=4, to_go_next='O'), 'maximizing_player': False, 'alpha': -100, 'beta': 100})\n",
      "started:  british_museum_minimax(args=(), kwargs={'game_state': Game_State(board_positions=[['O', 'X', 'O'], ['X', 'X', 'O'], ['', '', '']], moves_left=3, to_go_next='X'), 'maximizing_player': True, 'alpha': -100, 'beta': 100})\n",
      "started:  british_museum_minimax(args=(), kwargs={'game_state': Game_State(board_positions=[['O', 'X', 'O'], ['X', 'X', 'O'], ['X', '', '']], moves_left=2, to_go_next='O'), 'maximizing_player': False, 'alpha': -100, 'beta': 100})\n",
      "started:  british_museum_minimax(args=(), kwargs={'game_state': Game_State(board_positions=[['O', 'X', 'O'], ['X', 'X', 'O'], ['X', 'O', '']], moves_left=1, to_go_next='X'), 'maximizing_player': True, 'alpha': -100, 'beta': 100})\n",
      "started:  british_museum_minimax(args=(), kwargs={'game_state': Game_State(board_positions=[['O', 'X', 'O'], ['X', 'X', 'O'], ['X', 'O', 'X']], moves_left=0, to_go_next='O'), 'maximizing_player': False, 'alpha': -100, 'beta': 100})\n",
      "finished:  british_museum_minimax(args=(), kwargs={'game_state': Game_State(board_positions=[['O', 'X', 'O'], ['X', 'X', 'O'], ['X', 'O', 'X']], moves_left=0, to_go_next='O'), 'maximizing_player': False, 'alpha': -100, 'beta': 100})  return value:   (0, Game_State(board_positions=[['O', 'X', 'O'], ['X', 'X', 'O'], ['X', 'O', 'X']], moves_left=0, to_go_next='O'))\n",
      "finished:  british_museum_minimax(args=(), kwargs={'game_state': Game_State(board_positions=[['O', 'X', 'O'], ['X', 'X', 'O'], ['X', 'O', '']], moves_left=1, to_go_next='X'), 'maximizing_player': True, 'alpha': -100, 'beta': 100})  return value:   (0, Game_State(board_positions=[['O', 'X', 'O'], ['X', 'X', 'O'], ['X', 'O', 'X']], moves_left=0, to_go_next='O'))\n",
      "finished:  british_museum_minimax(args=(), kwargs={'game_state': Game_State(board_positions=[['O', 'X', 'O'], ['X', 'X', 'O'], ['X', '', '']], moves_left=2, to_go_next='O'), 'maximizing_player': False, 'alpha': -100, 'beta': 100})  return value:   (0, Game_State(board_positions=[['O', 'X', 'O'], ['X', 'X', 'O'], ['X', 'O', '']], moves_left=1, to_go_next='X'))\n",
      "started:  british_museum_minimax(args=(), kwargs={'game_state': Game_State(board_positions=[['O', 'X', 'O'], ['X', 'X', 'O'], ['', 'X', '']], moves_left=2, to_go_next='O'), 'maximizing_player': False, 'alpha': 0, 'beta': 100})\n",
      "finished:  british_museum_minimax(args=(), kwargs={'game_state': Game_State(board_positions=[['O', 'X', 'O'], ['X', 'X', 'O'], ['', 'X', '']], moves_left=2, to_go_next='O'), 'maximizing_player': False, 'alpha': 0, 'beta': 100})  return value:   (1, Game_State(board_positions=[['O', 'X', 'O'], ['X', 'X', 'O'], ['', 'X', '']], moves_left=2, to_go_next='O'))\n",
      "started:  british_museum_minimax(args=(), kwargs={'game_state': Game_State(board_positions=[['O', 'X', 'O'], ['X', 'X', 'O'], ['', '', 'X']], moves_left=2, to_go_next='O'), 'maximizing_player': False, 'alpha': 1, 'beta': 100})\n",
      "started:  british_museum_minimax(args=(), kwargs={'game_state': Game_State(board_positions=[['O', 'X', 'O'], ['X', 'X', 'O'], ['O', '', 'X']], moves_left=1, to_go_next='X'), 'maximizing_player': True, 'alpha': 1, 'beta': 100})\n",
      "started:  british_museum_minimax(args=(), kwargs={'game_state': Game_State(board_positions=[['O', 'X', 'O'], ['X', 'X', 'O'], ['O', 'X', 'X']], moves_left=0, to_go_next='O'), 'maximizing_player': False, 'alpha': 1, 'beta': 100})\n",
      "finished:  british_museum_minimax(args=(), kwargs={'game_state': Game_State(board_positions=[['O', 'X', 'O'], ['X', 'X', 'O'], ['O', 'X', 'X']], moves_left=0, to_go_next='O'), 'maximizing_player': False, 'alpha': 1, 'beta': 100})  return value:   (1, Game_State(board_positions=[['O', 'X', 'O'], ['X', 'X', 'O'], ['O', 'X', 'X']], moves_left=0, to_go_next='O'))\n",
      "finished:  british_museum_minimax(args=(), kwargs={'game_state': Game_State(board_positions=[['O', 'X', 'O'], ['X', 'X', 'O'], ['O', '', 'X']], moves_left=1, to_go_next='X'), 'maximizing_player': True, 'alpha': 1, 'beta': 100})  return value:   (1, Game_State(board_positions=[['O', 'X', 'O'], ['X', 'X', 'O'], ['O', 'X', 'X']], moves_left=0, to_go_next='O'))\n",
      "finished:  british_museum_minimax(args=(), kwargs={'game_state': Game_State(board_positions=[['O', 'X', 'O'], ['X', 'X', 'O'], ['', '', 'X']], moves_left=2, to_go_next='O'), 'maximizing_player': False, 'alpha': 1, 'beta': 100})  return value:   (1, Game_State(board_positions=[['O', 'X', 'O'], ['X', 'X', 'O'], ['O', '', 'X']], moves_left=1, to_go_next='X'))\n",
      "finished:  british_museum_minimax(args=(), kwargs={'game_state': Game_State(board_positions=[['O', 'X', 'O'], ['X', 'X', 'O'], ['', '', '']], moves_left=3, to_go_next='X'), 'maximizing_player': True, 'alpha': -100, 'beta': 100})  return value:   (1, Game_State(board_positions=[['O', 'X', 'O'], ['X', 'X', 'O'], ['', 'X', '']], moves_left=2, to_go_next='O'))\n",
      "finished:  british_museum_minimax(args=(), kwargs={'game_state': Game_State(board_positions=[['O', 'X', 'O'], ['X', 'X', ''], ['', '', '']], moves_left=4, to_go_next='O'), 'maximizing_player': False, 'alpha': -100, 'beta': 100})  return value:   (1, Game_State(board_positions=[['O', 'X', 'O'], ['X', 'X', 'O'], ['', '', '']], moves_left=3, to_go_next='X'))\n",
      "started:  british_museum_minimax(args=(), kwargs={'game_state': Game_State(board_positions=[['O', 'X', 'O'], ['', 'X', 'X'], ['', '', '']], moves_left=4, to_go_next='O'), 'maximizing_player': False, 'alpha': 1, 'beta': 100})\n",
      "started:  british_museum_minimax(args=(), kwargs={'game_state': Game_State(board_positions=[['O', 'X', 'O'], ['O', 'X', 'X'], ['', '', '']], moves_left=3, to_go_next='X'), 'maximizing_player': True, 'alpha': 1, 'beta': 100})\n",
      "started:  british_museum_minimax(args=(), kwargs={'game_state': Game_State(board_positions=[['O', 'X', 'O'], ['O', 'X', 'X'], ['X', '', '']], moves_left=2, to_go_next='O'), 'maximizing_player': False, 'alpha': 1, 'beta': 100})\n",
      "started:  british_museum_minimax(args=(), kwargs={'game_state': Game_State(board_positions=[['O', 'X', 'O'], ['O', 'X', 'X'], ['X', 'O', '']], moves_left=1, to_go_next='X'), 'maximizing_player': True, 'alpha': 1, 'beta': 100})\n",
      "started:  british_museum_minimax(args=(), kwargs={'game_state': Game_State(board_positions=[['O', 'X', 'O'], ['O', 'X', 'X'], ['X', 'O', 'X']], moves_left=0, to_go_next='O'), 'maximizing_player': False, 'alpha': 1, 'beta': 100})\n",
      "finished:  british_museum_minimax(args=(), kwargs={'game_state': Game_State(board_positions=[['O', 'X', 'O'], ['O', 'X', 'X'], ['X', 'O', 'X']], moves_left=0, to_go_next='O'), 'maximizing_player': False, 'alpha': 1, 'beta': 100})  return value:   (0, Game_State(board_positions=[['O', 'X', 'O'], ['O', 'X', 'X'], ['X', 'O', 'X']], moves_left=0, to_go_next='O'))\n",
      "finished:  british_museum_minimax(args=(), kwargs={'game_state': Game_State(board_positions=[['O', 'X', 'O'], ['O', 'X', 'X'], ['X', 'O', '']], moves_left=1, to_go_next='X'), 'maximizing_player': True, 'alpha': 1, 'beta': 100})  return value:   (0, Game_State(board_positions=[['O', 'X', 'O'], ['O', 'X', 'X'], ['X', 'O', 'X']], moves_left=0, to_go_next='O'))\n",
      "finished:  british_museum_minimax(args=(), kwargs={'game_state': Game_State(board_positions=[['O', 'X', 'O'], ['O', 'X', 'X'], ['X', '', '']], moves_left=2, to_go_next='O'), 'maximizing_player': False, 'alpha': 1, 'beta': 100})  return value:   (0, Game_State(board_positions=[['O', 'X', 'O'], ['O', 'X', 'X'], ['X', 'O', '']], moves_left=1, to_go_next='X'))\n",
      "started:  british_museum_minimax(args=(), kwargs={'game_state': Game_State(board_positions=[['O', 'X', 'O'], ['O', 'X', 'X'], ['', 'X', '']], moves_left=2, to_go_next='O'), 'maximizing_player': False, 'alpha': 1, 'beta': 100})\n",
      "finished:  british_museum_minimax(args=(), kwargs={'game_state': Game_State(board_positions=[['O', 'X', 'O'], ['O', 'X', 'X'], ['', 'X', '']], moves_left=2, to_go_next='O'), 'maximizing_player': False, 'alpha': 1, 'beta': 100})  return value:   (1, Game_State(board_positions=[['O', 'X', 'O'], ['O', 'X', 'X'], ['', 'X', '']], moves_left=2, to_go_next='O'))\n",
      "started:  british_museum_minimax(args=(), kwargs={'game_state': Game_State(board_positions=[['O', 'X', 'O'], ['O', 'X', 'X'], ['', '', 'X']], moves_left=2, to_go_next='O'), 'maximizing_player': False, 'alpha': 1, 'beta': 100})\n",
      "started:  british_museum_minimax(args=(), kwargs={'game_state': Game_State(board_positions=[['O', 'X', 'O'], ['O', 'X', 'X'], ['O', '', 'X']], moves_left=1, to_go_next='X'), 'maximizing_player': True, 'alpha': 1, 'beta': 100})\n",
      "finished:  british_museum_minimax(args=(), kwargs={'game_state': Game_State(board_positions=[['O', 'X', 'O'], ['O', 'X', 'X'], ['O', '', 'X']], moves_left=1, to_go_next='X'), 'maximizing_player': True, 'alpha': 1, 'beta': 100})  return value:   (-1, Game_State(board_positions=[['O', 'X', 'O'], ['O', 'X', 'X'], ['O', '', 'X']], moves_left=1, to_go_next='X'))\n",
      "finished:  british_museum_minimax(args=(), kwargs={'game_state': Game_State(board_positions=[['O', 'X', 'O'], ['O', 'X', 'X'], ['', '', 'X']], moves_left=2, to_go_next='O'), 'maximizing_player': False, 'alpha': 1, 'beta': 100})  return value:   (-1, Game_State(board_positions=[['O', 'X', 'O'], ['O', 'X', 'X'], ['O', '', 'X']], moves_left=1, to_go_next='X'))\n",
      "finished:  british_museum_minimax(args=(), kwargs={'game_state': Game_State(board_positions=[['O', 'X', 'O'], ['O', 'X', 'X'], ['', '', '']], moves_left=3, to_go_next='X'), 'maximizing_player': True, 'alpha': 1, 'beta': 100})  return value:   (1, Game_State(board_positions=[['O', 'X', 'O'], ['O', 'X', 'X'], ['', 'X', '']], moves_left=2, to_go_next='O'))\n",
      "finished:  british_museum_minimax(args=(), kwargs={'game_state': Game_State(board_positions=[['O', 'X', 'O'], ['', 'X', 'X'], ['', '', '']], moves_left=4, to_go_next='O'), 'maximizing_player': False, 'alpha': 1, 'beta': 100})  return value:   (1, Game_State(board_positions=[['O', 'X', 'O'], ['O', 'X', 'X'], ['', '', '']], moves_left=3, to_go_next='X'))\n",
      "started:  british_museum_minimax(args=(), kwargs={'game_state': Game_State(board_positions=[['O', 'X', 'O'], ['', 'X', ''], ['X', '', '']], moves_left=4, to_go_next='O'), 'maximizing_player': False, 'alpha': 1, 'beta': 100})\n",
      "started:  british_museum_minimax(args=(), kwargs={'game_state': Game_State(board_positions=[['O', 'X', 'O'], ['O', 'X', ''], ['X', '', '']], moves_left=3, to_go_next='X'), 'maximizing_player': True, 'alpha': 1, 'beta': 100})\n",
      "started:  british_museum_minimax(args=(), kwargs={'game_state': Game_State(board_positions=[['O', 'X', 'O'], ['O', 'X', 'X'], ['X', '', '']], moves_left=2, to_go_next='O'), 'maximizing_player': False, 'alpha': 1, 'beta': 100})\n",
      "started:  british_museum_minimax(args=(), kwargs={'game_state': Game_State(board_positions=[['O', 'X', 'O'], ['O', 'X', 'X'], ['X', 'O', '']], moves_left=1, to_go_next='X'), 'maximizing_player': True, 'alpha': 1, 'beta': 100})\n",
      "started:  british_museum_minimax(args=(), kwargs={'game_state': Game_State(board_positions=[['O', 'X', 'O'], ['O', 'X', 'X'], ['X', 'O', 'X']], moves_left=0, to_go_next='O'), 'maximizing_player': False, 'alpha': 1, 'beta': 100})\n",
      "finished:  british_museum_minimax(args=(), kwargs={'game_state': Game_State(board_positions=[['O', 'X', 'O'], ['O', 'X', 'X'], ['X', 'O', 'X']], moves_left=0, to_go_next='O'), 'maximizing_player': False, 'alpha': 1, 'beta': 100})  return value:   (0, Game_State(board_positions=[['O', 'X', 'O'], ['O', 'X', 'X'], ['X', 'O', 'X']], moves_left=0, to_go_next='O'))\n",
      "finished:  british_museum_minimax(args=(), kwargs={'game_state': Game_State(board_positions=[['O', 'X', 'O'], ['O', 'X', 'X'], ['X', 'O', '']], moves_left=1, to_go_next='X'), 'maximizing_player': True, 'alpha': 1, 'beta': 100})  return value:   (0, Game_State(board_positions=[['O', 'X', 'O'], ['O', 'X', 'X'], ['X', 'O', 'X']], moves_left=0, to_go_next='O'))\n",
      "finished:  british_museum_minimax(args=(), kwargs={'game_state': Game_State(board_positions=[['O', 'X', 'O'], ['O', 'X', 'X'], ['X', '', '']], moves_left=2, to_go_next='O'), 'maximizing_player': False, 'alpha': 1, 'beta': 100})  return value:   (0, Game_State(board_positions=[['O', 'X', 'O'], ['O', 'X', 'X'], ['X', 'O', '']], moves_left=1, to_go_next='X'))\n",
      "started:  british_museum_minimax(args=(), kwargs={'game_state': Game_State(board_positions=[['O', 'X', 'O'], ['O', 'X', ''], ['X', 'X', '']], moves_left=2, to_go_next='O'), 'maximizing_player': False, 'alpha': 1, 'beta': 100})\n",
      "finished:  british_museum_minimax(args=(), kwargs={'game_state': Game_State(board_positions=[['O', 'X', 'O'], ['O', 'X', ''], ['X', 'X', '']], moves_left=2, to_go_next='O'), 'maximizing_player': False, 'alpha': 1, 'beta': 100})  return value:   (1, Game_State(board_positions=[['O', 'X', 'O'], ['O', 'X', ''], ['X', 'X', '']], moves_left=2, to_go_next='O'))\n",
      "started:  british_museum_minimax(args=(), kwargs={'game_state': Game_State(board_positions=[['O', 'X', 'O'], ['O', 'X', ''], ['X', '', 'X']], moves_left=2, to_go_next='O'), 'maximizing_player': False, 'alpha': 1, 'beta': 100})\n",
      "started:  british_museum_minimax(args=(), kwargs={'game_state': Game_State(board_positions=[['O', 'X', 'O'], ['O', 'X', 'O'], ['X', '', 'X']], moves_left=1, to_go_next='X'), 'maximizing_player': True, 'alpha': 1, 'beta': 100})\n",
      "started:  british_museum_minimax(args=(), kwargs={'game_state': Game_State(board_positions=[['O', 'X', 'O'], ['O', 'X', 'O'], ['X', 'X', 'X']], moves_left=0, to_go_next='O'), 'maximizing_player': False, 'alpha': 1, 'beta': 100})\n",
      "finished:  british_museum_minimax(args=(), kwargs={'game_state': Game_State(board_positions=[['O', 'X', 'O'], ['O', 'X', 'O'], ['X', 'X', 'X']], moves_left=0, to_go_next='O'), 'maximizing_player': False, 'alpha': 1, 'beta': 100})  return value:   (1, Game_State(board_positions=[['O', 'X', 'O'], ['O', 'X', 'O'], ['X', 'X', 'X']], moves_left=0, to_go_next='O'))\n",
      "finished:  british_museum_minimax(args=(), kwargs={'game_state': Game_State(board_positions=[['O', 'X', 'O'], ['O', 'X', 'O'], ['X', '', 'X']], moves_left=1, to_go_next='X'), 'maximizing_player': True, 'alpha': 1, 'beta': 100})  return value:   (1, Game_State(board_positions=[['O', 'X', 'O'], ['O', 'X', 'O'], ['X', 'X', 'X']], moves_left=0, to_go_next='O'))\n",
      "finished:  british_museum_minimax(args=(), kwargs={'game_state': Game_State(board_positions=[['O', 'X', 'O'], ['O', 'X', ''], ['X', '', 'X']], moves_left=2, to_go_next='O'), 'maximizing_player': False, 'alpha': 1, 'beta': 100})  return value:   (1, Game_State(board_positions=[['O', 'X', 'O'], ['O', 'X', 'O'], ['X', '', 'X']], moves_left=1, to_go_next='X'))\n",
      "finished:  british_museum_minimax(args=(), kwargs={'game_state': Game_State(board_positions=[['O', 'X', 'O'], ['O', 'X', ''], ['X', '', '']], moves_left=3, to_go_next='X'), 'maximizing_player': True, 'alpha': 1, 'beta': 100})  return value:   (1, Game_State(board_positions=[['O', 'X', 'O'], ['O', 'X', ''], ['X', 'X', '']], moves_left=2, to_go_next='O'))\n",
      "finished:  british_museum_minimax(args=(), kwargs={'game_state': Game_State(board_positions=[['O', 'X', 'O'], ['', 'X', ''], ['X', '', '']], moves_left=4, to_go_next='O'), 'maximizing_player': False, 'alpha': 1, 'beta': 100})  return value:   (1, Game_State(board_positions=[['O', 'X', 'O'], ['O', 'X', ''], ['X', '', '']], moves_left=3, to_go_next='X'))\n",
      "started:  british_museum_minimax(args=(), kwargs={'game_state': Game_State(board_positions=[['O', 'X', 'O'], ['', 'X', ''], ['', 'X', '']], moves_left=4, to_go_next='O'), 'maximizing_player': False, 'alpha': 1, 'beta': 100})\n",
      "finished:  british_museum_minimax(args=(), kwargs={'game_state': Game_State(board_positions=[['O', 'X', 'O'], ['', 'X', ''], ['', 'X', '']], moves_left=4, to_go_next='O'), 'maximizing_player': False, 'alpha': 1, 'beta': 100})  return value:   (1, Game_State(board_positions=[['O', 'X', 'O'], ['', 'X', ''], ['', 'X', '']], moves_left=4, to_go_next='O'))\n",
      "started:  british_museum_minimax(args=(), kwargs={'game_state': Game_State(board_positions=[['O', 'X', 'O'], ['', 'X', ''], ['', '', 'X']], moves_left=4, to_go_next='O'), 'maximizing_player': False, 'alpha': 1, 'beta': 100})\n",
      "started:  british_museum_minimax(args=(), kwargs={'game_state': Game_State(board_positions=[['O', 'X', 'O'], ['O', 'X', ''], ['', '', 'X']], moves_left=3, to_go_next='X'), 'maximizing_player': True, 'alpha': 1, 'beta': 100})\n",
      "started:  british_museum_minimax(args=(), kwargs={'game_state': Game_State(board_positions=[['O', 'X', 'O'], ['O', 'X', 'X'], ['', '', 'X']], moves_left=2, to_go_next='O'), 'maximizing_player': False, 'alpha': 1, 'beta': 100})\n",
      "started:  british_museum_minimax(args=(), kwargs={'game_state': Game_State(board_positions=[['O', 'X', 'O'], ['O', 'X', 'X'], ['O', '', 'X']], moves_left=1, to_go_next='X'), 'maximizing_player': True, 'alpha': 1, 'beta': 100})\n",
      "finished:  british_museum_minimax(args=(), kwargs={'game_state': Game_State(board_positions=[['O', 'X', 'O'], ['O', 'X', 'X'], ['O', '', 'X']], moves_left=1, to_go_next='X'), 'maximizing_player': True, 'alpha': 1, 'beta': 100})  return value:   (-1, Game_State(board_positions=[['O', 'X', 'O'], ['O', 'X', 'X'], ['O', '', 'X']], moves_left=1, to_go_next='X'))\n",
      "finished:  british_museum_minimax(args=(), kwargs={'game_state': Game_State(board_positions=[['O', 'X', 'O'], ['O', 'X', 'X'], ['', '', 'X']], moves_left=2, to_go_next='O'), 'maximizing_player': False, 'alpha': 1, 'beta': 100})  return value:   (-1, Game_State(board_positions=[['O', 'X', 'O'], ['O', 'X', 'X'], ['O', '', 'X']], moves_left=1, to_go_next='X'))\n",
      "started:  british_museum_minimax(args=(), kwargs={'game_state': Game_State(board_positions=[['O', 'X', 'O'], ['O', 'X', ''], ['X', '', 'X']], moves_left=2, to_go_next='O'), 'maximizing_player': False, 'alpha': 1, 'beta': 100})\n",
      "started:  british_museum_minimax(args=(), kwargs={'game_state': Game_State(board_positions=[['O', 'X', 'O'], ['O', 'X', 'O'], ['X', '', 'X']], moves_left=1, to_go_next='X'), 'maximizing_player': True, 'alpha': 1, 'beta': 100})\n",
      "started:  british_museum_minimax(args=(), kwargs={'game_state': Game_State(board_positions=[['O', 'X', 'O'], ['O', 'X', 'O'], ['X', 'X', 'X']], moves_left=0, to_go_next='O'), 'maximizing_player': False, 'alpha': 1, 'beta': 100})\n",
      "finished:  british_museum_minimax(args=(), kwargs={'game_state': Game_State(board_positions=[['O', 'X', 'O'], ['O', 'X', 'O'], ['X', 'X', 'X']], moves_left=0, to_go_next='O'), 'maximizing_player': False, 'alpha': 1, 'beta': 100})  return value:   (1, Game_State(board_positions=[['O', 'X', 'O'], ['O', 'X', 'O'], ['X', 'X', 'X']], moves_left=0, to_go_next='O'))\n",
      "finished:  british_museum_minimax(args=(), kwargs={'game_state': Game_State(board_positions=[['O', 'X', 'O'], ['O', 'X', 'O'], ['X', '', 'X']], moves_left=1, to_go_next='X'), 'maximizing_player': True, 'alpha': 1, 'beta': 100})  return value:   (1, Game_State(board_positions=[['O', 'X', 'O'], ['O', 'X', 'O'], ['X', 'X', 'X']], moves_left=0, to_go_next='O'))\n",
      "finished:  british_museum_minimax(args=(), kwargs={'game_state': Game_State(board_positions=[['O', 'X', 'O'], ['O', 'X', ''], ['X', '', 'X']], moves_left=2, to_go_next='O'), 'maximizing_player': False, 'alpha': 1, 'beta': 100})  return value:   (1, Game_State(board_positions=[['O', 'X', 'O'], ['O', 'X', 'O'], ['X', '', 'X']], moves_left=1, to_go_next='X'))\n",
      "started:  british_museum_minimax(args=(), kwargs={'game_state': Game_State(board_positions=[['O', 'X', 'O'], ['O', 'X', ''], ['', 'X', 'X']], moves_left=2, to_go_next='O'), 'maximizing_player': False, 'alpha': 1, 'beta': 100})\n",
      "finished:  british_museum_minimax(args=(), kwargs={'game_state': Game_State(board_positions=[['O', 'X', 'O'], ['O', 'X', ''], ['', 'X', 'X']], moves_left=2, to_go_next='O'), 'maximizing_player': False, 'alpha': 1, 'beta': 100})  return value:   (1, Game_State(board_positions=[['O', 'X', 'O'], ['O', 'X', ''], ['', 'X', 'X']], moves_left=2, to_go_next='O'))\n",
      "finished:  british_museum_minimax(args=(), kwargs={'game_state': Game_State(board_positions=[['O', 'X', 'O'], ['O', 'X', ''], ['', '', 'X']], moves_left=3, to_go_next='X'), 'maximizing_player': True, 'alpha': 1, 'beta': 100})  return value:   (1, Game_State(board_positions=[['O', 'X', 'O'], ['O', 'X', ''], ['X', '', 'X']], moves_left=2, to_go_next='O'))\n",
      "finished:  british_museum_minimax(args=(), kwargs={'game_state': Game_State(board_positions=[['O', 'X', 'O'], ['', 'X', ''], ['', '', 'X']], moves_left=4, to_go_next='O'), 'maximizing_player': False, 'alpha': 1, 'beta': 100})  return value:   (1, Game_State(board_positions=[['O', 'X', 'O'], ['O', 'X', ''], ['', '', 'X']], moves_left=3, to_go_next='X'))\n",
      "finished:  british_museum_minimax(args=(), kwargs={'game_state': Game_State(board_positions=[['O', 'X', 'O'], ['', 'X', ''], ['', '', '']], moves_left=5, to_go_next='X'), 'maximizing_player': True, 'alpha': -100, 'beta': 100})  return value:   (1, Game_State(board_positions=[['O', 'X', 'O'], ['X', 'X', ''], ['', '', '']], moves_left=4, to_go_next='O'))\n",
      "finished:  british_museum_minimax(args=(), kwargs={'game_state': Game_State(board_positions=[['O', 'X', ''], ['', 'X', ''], ['', '', '']], moves_left=6, to_go_next='O'), 'maximizing_player': False, 'alpha': -100, 'beta': 100})  return value:   (1, Game_State(board_positions=[['O', 'X', 'O'], ['', 'X', ''], ['', '', '']], moves_left=5, to_go_next='X'))\n",
      "O|X|O\n",
      ".|X|.\n",
      ".|.|.\n",
      "1\n"
     ]
    }
   ],
   "source": [
    "score, best_child = british_museum_minimax(\n",
    "    game_state=Game_State(\n",
    "        moves_left=6,\n",
    "        to_go_next=\"O\",\n",
    "        board_positions=[\n",
    "            [\"O\", \"X\", \"\"],\n",
    "            [\"\", \"X\", \"\"],\n",
    "            [\"\", \"\", \"\"],\n",
    "        ]\n",
    "    ),\n",
    "    maximizing_player=False,\n",
    "    alpha=-100,\n",
    "    beta=+100\n",
    ")\n",
    "\n",
    "best_child.print_board()\n",
    "print(score)"
   ]
  },
  {
   "cell_type": "markdown",
   "metadata": {},
   "source": [
    "well that didn't help"
   ]
  }
 ],
 "metadata": {
  "kernelspec": {
   "display_name": "Python 3.10.0 64-bit",
   "language": "python",
   "name": "python3"
  },
  "language_info": {
   "codemirror_mode": {
    "name": "ipython",
    "version": 3
   },
   "file_extension": ".py",
   "mimetype": "text/x-python",
   "name": "python",
   "nbconvert_exporter": "python",
   "pygments_lexer": "ipython3",
   "version": "3.10.0"
  },
  "orig_nbformat": 4,
  "vscode": {
   "interpreter": {
    "hash": "1215b1aecdd8c83375b241d0c862057777d1b41ed412da38189195d086960e71"
   }
  }
 },
 "nbformat": 4,
 "nbformat_minor": 2
}
