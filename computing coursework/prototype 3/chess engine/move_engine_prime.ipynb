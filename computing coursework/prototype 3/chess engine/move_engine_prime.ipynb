{
 "cells": [
  {
   "cell_type": "code",
   "execution_count": 12,
   "metadata": {},
   "outputs": [],
   "source": [
    "from minimax_parallel import Move_Engine_Prime\n",
    "from minimax import Move_Engine\n",
    "from board_state import Board_State\n",
    "from vector import Vector\n",
    "\n",
    "from random import choice as random_choice"
   ]
  },
  {
   "cell_type": "code",
   "execution_count": 13,
   "metadata": {},
   "outputs": [],
   "source": [
    "move_engine = Move_Engine_Prime()\n",
    "move_engine_basic = Move_Engine()"
   ]
  },
  {
   "cell_type": "code",
   "execution_count": 14,
   "metadata": {},
   "outputs": [],
   "source": [
    "def random_board_state(moves: int):\n",
    "\n",
    "    board_state = Board_State()\n",
    "    while True:\n",
    "        try:\n",
    "            for _ in range(moves):\n",
    "                legal_moves = list(board_state.generate_legal_moves())\n",
    "                # print(legal_moves)\n",
    "                assert len(legal_moves) > 0\n",
    "                random_move = random_choice(legal_moves)\n",
    "                # print(f\"Making move:   {board_state.get_piece_at_vector(random_move[0])}  {random_move[0].to_square()} to {(random_move[0] + random_move[1]).to_square()}\")\n",
    "                board_state = board_state.make_move(*random_move)\n",
    "        except AssertionError:\n",
    "            # print(\"Game over, trying again\")\n",
    "\n",
    "            continue\n",
    "        else:\n",
    "            return board_state\n",
    "\n"
   ]
  },
  {
   "cell_type": "code",
   "execution_count": 15,
   "metadata": {},
   "outputs": [],
   "source": [
    "# random_board_state(10).print_board()"
   ]
  },
  {
   "cell_type": "code",
   "execution_count": 16,
   "metadata": {},
   "outputs": [],
   "source": [
    "# board_state = random_board_state(20) \n",
    "# board_state.print_board()\n",
    "\n",
    "# move_engine(\n",
    "#     board_state,\n",
    "#     2\n",
    "# )\n"
   ]
  },
  {
   "cell_type": "code",
   "execution_count": 17,
   "metadata": {},
   "outputs": [],
   "source": [
    "legal_moves_sorted = list(\n",
    "    move_engine_basic.generate_move_child(board_state=Board_State(), depth=3, give_child=False, is_maximizer=True)\n",
    ")"
   ]
  },
  {
   "cell_type": "code",
   "execution_count": 18,
   "metadata": {},
   "outputs": [
    {
     "data": {
      "text/plain": [
       "[[(Vector(i=1, j=0), Vector(i=1, j=2)), None],\n",
       " [(Vector(i=6, j=0), Vector(i=-1, j=2)), None],\n",
       " [(Vector(i=3, j=1), Vector(i=0, j=2)), None],\n",
       " [(Vector(i=4, j=1), Vector(i=0, j=2)), None],\n",
       " [(Vector(i=3, j=1), Vector(i=0, j=1)), None],\n",
       " [(Vector(i=4, j=1), Vector(i=0, j=1)), None],\n",
       " [(Vector(i=1, j=0), Vector(i=-1, j=2)), None],\n",
       " [(Vector(i=6, j=0), Vector(i=1, j=2)), None],\n",
       " [(Vector(i=0, j=1), Vector(i=0, j=1)), None],\n",
       " [(Vector(i=7, j=1), Vector(i=0, j=1)), None],\n",
       " [(Vector(i=0, j=1), Vector(i=0, j=2)), None],\n",
       " [(Vector(i=7, j=1), Vector(i=0, j=2)), None],\n",
       " [(Vector(i=1, j=1), Vector(i=0, j=2)), None],\n",
       " [(Vector(i=2, j=1), Vector(i=0, j=2)), None],\n",
       " [(Vector(i=5, j=1), Vector(i=0, j=2)), None],\n",
       " [(Vector(i=6, j=1), Vector(i=0, j=2)), None],\n",
       " [(Vector(i=1, j=1), Vector(i=0, j=1)), None],\n",
       " [(Vector(i=6, j=1), Vector(i=0, j=1)), None],\n",
       " [(Vector(i=2, j=1), Vector(i=0, j=1)), None],\n",
       " [(Vector(i=5, j=1), Vector(i=0, j=1)), None]]"
      ]
     },
     "execution_count": 18,
     "metadata": {},
     "output_type": "execute_result"
    }
   ],
   "source": [
    "legal_moves_sorted"
   ]
  },
  {
   "cell_type": "code",
   "execution_count": 19,
   "metadata": {},
   "outputs": [],
   "source": [
    "sub_arrays = [[] for _ in range(8)]"
   ]
  },
  {
   "cell_type": "code",
   "execution_count": 20,
   "metadata": {},
   "outputs": [
    {
     "data": {
      "text/plain": [
       "[[], [], [], [], [], [], [], []]"
      ]
     },
     "execution_count": 20,
     "metadata": {},
     "output_type": "execute_result"
    }
   ],
   "source": [
    "sub_arrays"
   ]
  },
  {
   "cell_type": "code",
   "execution_count": 21,
   "metadata": {},
   "outputs": [],
   "source": [
    "i = 0\n",
    "while len(legal_moves_sorted) > 0:\n",
    "    sub_arrays[i].append(\n",
    "        legal_moves_sorted.pop()\n",
    "    )\n",
    "    i = (i + 1) % 8"
   ]
  },
  {
   "cell_type": "code",
   "execution_count": 22,
   "metadata": {},
   "outputs": [
    {
     "data": {
      "text/plain": [
       "[[[(Vector(i=5, j=1), Vector(i=0, j=1)), None],\n",
       "  [(Vector(i=7, j=1), Vector(i=0, j=2)), None],\n",
       "  [(Vector(i=4, j=1), Vector(i=0, j=2)), None]],\n",
       " [[(Vector(i=2, j=1), Vector(i=0, j=1)), None],\n",
       "  [(Vector(i=0, j=1), Vector(i=0, j=2)), None],\n",
       "  [(Vector(i=3, j=1), Vector(i=0, j=2)), None]],\n",
       " [[(Vector(i=6, j=1), Vector(i=0, j=1)), None],\n",
       "  [(Vector(i=7, j=1), Vector(i=0, j=1)), None],\n",
       "  [(Vector(i=6, j=0), Vector(i=-1, j=2)), None]],\n",
       " [[(Vector(i=1, j=1), Vector(i=0, j=1)), None],\n",
       "  [(Vector(i=0, j=1), Vector(i=0, j=1)), None],\n",
       "  [(Vector(i=1, j=0), Vector(i=1, j=2)), None]],\n",
       " [[(Vector(i=6, j=1), Vector(i=0, j=2)), None],\n",
       "  [(Vector(i=6, j=0), Vector(i=1, j=2)), None]],\n",
       " [[(Vector(i=5, j=1), Vector(i=0, j=2)), None],\n",
       "  [(Vector(i=1, j=0), Vector(i=-1, j=2)), None]],\n",
       " [[(Vector(i=2, j=1), Vector(i=0, j=2)), None],\n",
       "  [(Vector(i=4, j=1), Vector(i=0, j=1)), None]],\n",
       " [[(Vector(i=1, j=1), Vector(i=0, j=2)), None],\n",
       "  [(Vector(i=3, j=1), Vector(i=0, j=1)), None]]]"
      ]
     },
     "execution_count": 22,
     "metadata": {},
     "output_type": "execute_result"
    }
   ],
   "source": [
    "sub_arrays"
   ]
  }
 ],
 "metadata": {
  "kernelspec": {
   "display_name": "Python 3",
   "language": "python",
   "name": "python3"
  },
  "language_info": {
   "codemirror_mode": {
    "name": "ipython",
    "version": 3
   },
   "file_extension": ".py",
   "mimetype": "text/x-python",
   "name": "python",
   "nbconvert_exporter": "python",
   "pygments_lexer": "ipython3",
   "version": "3.10.0 (tags/v3.10.0:b494f59, Oct  4 2021, 19:00:18) [MSC v.1929 64 bit (AMD64)]"
  },
  "orig_nbformat": 4,
  "vscode": {
   "interpreter": {
    "hash": "1215b1aecdd8c83375b241d0c862057777d1b41ed412da38189195d086960e71"
   }
  }
 },
 "nbformat": 4,
 "nbformat_minor": 2
}
